{
 "cells": [
  {
   "cell_type": "code",
   "execution_count": 66,
   "metadata": {},
   "outputs": [],
   "source": [
    "import numpy as np\n",
    "import matplotlib.pyplot as plt\n",
    "%matplotlib inline\n",
    "import seaborn as sns\n",
    "import warnings\n",
    "warnings.simplefilter('ignore')\n",
    "\n",
    "from sklearn.cluster import KMeans"
   ]
  },
  {
   "cell_type": "code",
   "execution_count": 20,
   "metadata": {},
   "outputs": [],
   "source": [
    "aa1 = np.random.randint(70,100,50)\n",
    "bb1 = np.random.randint(70,100,50)\n",
    "aa2 = np.random.randint(10,40,50)\n",
    "bb2 = np.random.randint(10,40,50)\n",
    "\n",
    "aa3 = np.random.randint(70,100,50)\n",
    "bb3 = np.random.randint(10,40,50)\n",
    "aa4 = np.random.randint(10,40,50)\n",
    "bb4 = np.random.randint(70,100,50)"
   ]
  },
  {
   "cell_type": "code",
   "execution_count": 33,
   "metadata": {},
   "outputs": [],
   "source": [
    "ds = np.c_[np.r_[aa1, aa2, aa3, aa4], np.r_[bb1, bb2, bb3, bb4]]"
   ]
  },
  {
   "cell_type": "code",
   "execution_count": 41,
   "metadata": {},
   "outputs": [
    {
     "data": {
      "text/plain": [
       "array([88, 83, 86, 79, 93, 86, 87, 81, 80, 78, 82, 73, 97, 83, 77, 85, 86,\n",
       "       95, 85, 81, 74, 89, 97, 88, 90, 84, 99, 82, 92, 92, 70, 89, 92, 76,\n",
       "       98, 95, 73, 93, 70, 98, 89, 77, 73, 98, 81, 70, 90, 96, 73, 73, 29,\n",
       "       36, 32, 24, 14, 14, 23, 14, 21, 29, 28, 25, 12, 36, 10, 38, 15, 33,\n",
       "       39, 36, 15, 32, 14, 13, 28, 17, 10, 10, 33, 21, 30, 31, 23, 34, 11,\n",
       "       31, 21, 23, 31, 39, 25, 31, 30, 15, 22, 31, 28, 37, 29, 35, 28, 37,\n",
       "       25, 28, 39, 21, 22, 29, 28, 20, 18, 15, 33, 25, 28, 26, 25, 10, 19,\n",
       "       34, 30, 34, 13, 36, 37, 25, 28, 35, 19, 11, 26, 19, 27, 31, 21, 22,\n",
       "       30, 25, 14, 26, 26, 35, 17, 39, 15, 23, 25, 34, 19, 17, 72, 82, 77,\n",
       "       94, 86, 78, 84, 77, 71, 93, 70, 93, 94, 96, 94, 81, 80, 97, 98, 87,\n",
       "       78, 94, 96, 82, 80, 90, 75, 94, 76, 71, 86, 71, 92, 95, 84, 82, 86,\n",
       "       92, 91, 94, 70, 98, 72, 82, 85, 89, 94, 81, 70, 74])"
      ]
     },
     "execution_count": 41,
     "metadata": {},
     "output_type": "execute_result"
    }
   ],
   "source": [
    "ds[:, 1]"
   ]
  },
  {
   "cell_type": "code",
   "execution_count": 57,
   "metadata": {},
   "outputs": [
    {
     "data": {
      "text/plain": [
       "(0.0, 100.0)"
      ]
     },
     "execution_count": 57,
     "metadata": {},
     "output_type": "execute_result"
    },
    {
     "data": {
      "image/png": "[encoded data removed]",
      "text/plain": [
       "<Figure size 432x432 with 1 Axes>"
      ]
     },
     "metadata": {
      "needs_background": "light"
     },
     "output_type": "display_data"
    }
   ],
   "source": [
    "ax = plt.figure(figsize = (6, 6)).add_subplot(1,1,1)\n",
    "plt.scatter(ds[:, 0], ds[:, 1])\n",
    "ax.set_xlim(0, 100)\n",
    "ax.set_ylim(0, 100)"
   ]
  },
  {
   "cell_type": "code",
   "execution_count": 49,
   "metadata": {},
   "outputs": [
    {
     "name": "stderr",
     "output_type": "stream",
     "text": [
      "C:\\Users\\Lex\\Anaconda3\\lib\\site-packages\\sklearn\\cluster\\_kmeans.py:974: FutureWarning: 'n_jobs' was deprecated in version 0.23 and will be removed in 0.25.\n",
      "  \" removed in 0.25.\", FutureWarning)\n"
     ]
    },
    {
     "data": {
      "text/plain": [
       "KMeans(n_clusters=4, n_jobs=-1, random_state=42)"
      ]
     },
     "execution_count": 49,
     "metadata": {},
     "output_type": "execute_result"
    }
   ],
   "source": [
    "model = KMeans(n_clusters=4, random_state=42, n_jobs=-1)\n",
    "model.fit(ds)"
   ]
  },
  {
   "cell_type": "code",
   "execution_count": 56,
   "metadata": {},
   "outputs": [
    {
     "data": {
      "text/plain": [
       "(0.0, 100.0)"
      ]
     },
     "execution_count": 56,
     "metadata": {},
     "output_type": "execute_result"
    },
    {
     "data": {
      "image/png": "[encoded data removed]",
      "text/plain": [
       "<Figure size 432x432 with 1 Axes>"
      ]
     },
     "metadata": {
      "needs_background": "light"
     },
     "output_type": "display_data"
    }
   ],
   "source": [
    "ax = plt.figure(figsize = (6, 6)).add_subplot(1,1,1)\n",
    "plt.scatter(model.cluster_centers_[:,0], model.cluster_centers_[:,1], color='red')\n",
    "ax.set_xlim(0, 100)\n",
    "ax.set_ylim(0, 100)"
   ]
  },
  {
   "cell_type": "code",
   "execution_count": 58,
   "metadata": {},
   "outputs": [
    {
     "data": {
      "text/plain": [
       "array([0, 0, 0, 0, 0, 0, 0, 0, 0, 0, 0, 0, 0, 0, 0, 0, 0, 0, 0, 0, 0, 0,\n",
       "       0, 0, 0, 0, 0, 0, 0, 0, 0, 0, 0, 0, 0, 0, 0, 0, 0, 0, 0, 0, 0, 0,\n",
       "       0, 0, 0, 0, 0, 0, 1, 1, 1, 1, 1, 1, 1, 1, 1, 1, 1, 1, 1, 1, 1, 1,\n",
       "       1, 1, 1, 1, 1, 1, 1, 1, 1, 1, 1, 1, 1, 1, 1, 1, 1, 1, 1, 1, 1, 1,\n",
       "       1, 1, 1, 1, 1, 1, 1, 1, 1, 1, 1, 1, 2, 2, 2, 2, 2, 2, 2, 2, 2, 2,\n",
       "       2, 2, 2, 2, 2, 2, 2, 2, 2, 2, 2, 2, 2, 2, 2, 2, 2, 2, 2, 2, 2, 2,\n",
       "       2, 2, 2, 2, 2, 2, 2, 2, 2, 2, 2, 2, 2, 2, 2, 2, 2, 2, 3, 3, 3, 3,\n",
       "       3, 3, 3, 3, 3, 3, 3, 3, 3, 3, 3, 3, 3, 3, 3, 3, 3, 3, 3, 3, 3, 3,\n",
       "       3, 3, 3, 3, 3, 3, 3, 3, 3, 3, 3, 3, 3, 3, 3, 3, 3, 3, 3, 3, 3, 3,\n",
       "       3, 3])"
      ]
     },
     "execution_count": 58,
     "metadata": {},
     "output_type": "execute_result"
    }
   ],
   "source": [
    "model.labels_"
   ]
  },
  {
   "cell_type": "code",
   "execution_count": 64,
   "metadata": {},
   "outputs": [
    {
     "data": {
      "text/plain": [
       "-28784.76000000001"
      ]
     },
     "execution_count": 64,
     "metadata": {},
     "output_type": "execute_result"
    }
   ],
   "source": [
    "model.score(ds)"
   ]
  },
  {
   "cell_type": "code",
   "execution_count": 67,
   "metadata": {},
   "outputs": [
    {
     "name": "stdout",
     "output_type": "stream",
     "text": [
      "-392605.86999999976\n",
      "-205635.53999999995\n",
      "-117004.0\n",
      "-28784.76000000001\n",
      "-25267.39333333333\n",
      "-22019.19152709359\n",
      "-19449.715148185147\n",
      "-16989.573993558777\n",
      "-15493.279046155127\n",
      "-13943.58773167741\n"
     ]
    }
   ],
   "source": [
    "for i in range(1, 11):\n",
    "    model = KMeans(n_clusters=i, random_state=42, n_jobs=-1)\n",
    "    model.fit(ds)\n",
    "    print(model.score(ds))"
   ]
  },
  {
   "cell_type": "code",
   "execution_count": null,
   "metadata": {},
   "outputs": [],
   "source": []
  }
 ],
 "metadata": {
  "kernelspec": {
   "display_name": "Python 3",
   "language": "python",
   "name": "python3"
  },
  "language_info": {
   "codemirror_mode": {
    "name": "ipython",
    "version": 3
   },
   "file_extension": ".py",
   "mimetype": "text/x-python",
   "name": "python",
   "nbconvert_exporter": "python",
   "pygments_lexer": "ipython3",
   "version": "3.6.10"
  }
 },
 "nbformat": 4,
 "nbformat_minor": 4
}
