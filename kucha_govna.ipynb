{
 "cells": [
  {
   "cell_type": "code",
   "execution_count": 229,
   "metadata": {},
   "outputs": [
    {
     "data": {
      "text/html": [
       "<style>.container{width:95% !important;}</style>"
      ],
      "text/plain": [
       "<IPython.core.display.HTML object>"
      ]
     },
     "metadata": {},
     "output_type": "display_data"
    }
   ],
   "source": [
    "from IPython.core.display import display, HTML\n",
    "display(HTML('<style>.container{width:95% !important;}</style>'))\n",
    "\n",
    "import numpy as np\n",
    "import pandas as pd\n",
    "import matplotlib.pyplot as plt\n",
    "%matplotlib inline\n",
    "import seaborn as sns\n",
    "from datetime import datetime as dt\n",
    "\n",
    "from sklearn.compose import ColumnTransformer\n",
    "from sklearn.preprocessing import OneHotEncoder\n",
    "from sklearn.pipeline import Pipeline\n",
    "from sklearn.model_selection import train_test_split\n",
    "from sklearn.linear_model import Ridge\n",
    "from sklearn.tree import plot_tree, DecisionTreeRegressor\n",
    "from sklearn.metrics import mean_squared_error\n",
    "\n",
    "import statsmodels.api as sm"
   ]
  },
  {
   "cell_type": "code",
   "execution_count": 35,
   "metadata": {},
   "outputs": [],
   "source": [
    "def days_between(d1, d2):\n",
    "    d1 = dt.strptime(d1, \"%Y-%m-%d\")\n",
    "    d2 = dt.strptime(d2, \"%Y-%m-%d\")\n",
    "    return abs((d2 - d1).days)"
   ]
  },
  {
   "cell_type": "code",
   "execution_count": 14,
   "metadata": {},
   "outputs": [
    {
     "name": "stderr",
     "output_type": "stream",
     "text": [
      "C:\\Users\\Lex\\Anaconda3\\lib\\site-packages\\IPython\\core\\interactiveshell.py:3072: DtypeWarning: Columns (1,3,4,5,6,7,8,11,13) have mixed types.Specify dtype option on import or set low_memory=False.\n",
      "  interactivity=interactivity, compiler=compiler, result=result)\n"
     ]
    }
   ],
   "source": [
    "raw_ds = pd.read_csv('Dataset.csv', sep=';')"
   ]
  },
  {
   "cell_type": "code",
   "execution_count": 15,
   "metadata": {},
   "outputs": [],
   "source": [
    "raw_ds = raw_ds[~raw_ds['ID клиента'].isna()] #очистка от мусора"
   ]
  },
  {
   "cell_type": "code",
   "execution_count": 16,
   "metadata": {
    "scrolled": false
   },
   "outputs": [
    {
     "data": {
      "text/html": [
       "<div>\n",
       "<style scoped>\n",
       "    .dataframe tbody tr th:only-of-type {\n",
       "        vertical-align: middle;\n",
       "    }\n",
       "\n",
       "    .dataframe tbody tr th {\n",
       "        vertical-align: top;\n",
       "    }\n",
       "\n",
       "    .dataframe thead th {\n",
       "        text-align: right;\n",
       "    }\n",
       "</style>\n",
       "<table border=\"1\" class=\"dataframe\">\n",
       "  <thead>\n",
       "    <tr style=\"text-align: right;\">\n",
       "      <th></th>\n",
       "      <th>ID клиента</th>\n",
       "      <th>Пол</th>\n",
       "      <th>Возраст</th>\n",
       "      <th>Город</th>\n",
       "      <th>Дата поступления жалобы</th>\n",
       "      <th>Дата закрытия жалобы</th>\n",
       "      <th>Тематика жалобы</th>\n",
       "      <th>Канал поступления жалобы</th>\n",
       "      <th>Продукт</th>\n",
       "      <th>Запрашиваемая сумма возмещения</th>\n",
       "      <th>Сумма выплаты клиенту</th>\n",
       "      <th>Тип подарка</th>\n",
       "      <th>CSI</th>\n",
       "      <th>Комментарий к CSI</th>\n",
       "    </tr>\n",
       "  </thead>\n",
       "  <tbody>\n",
       "    <tr>\n",
       "      <th>0</th>\n",
       "      <td>1.0</td>\n",
       "      <td>F</td>\n",
       "      <td>21.0</td>\n",
       "      <td>Москва</td>\n",
       "      <td>02.03.2019</td>\n",
       "      <td>03.03.2019</td>\n",
       "      <td>Доставка</td>\n",
       "      <td>Отделение</td>\n",
       "      <td>Перевод</td>\n",
       "      <td>4313.0</td>\n",
       "      <td>4313.0</td>\n",
       "      <td>Промокод</td>\n",
       "      <td>8.0</td>\n",
       "      <td>NaN</td>\n",
       "    </tr>\n",
       "    <tr>\n",
       "      <th>1</th>\n",
       "      <td>2.0</td>\n",
       "      <td>M</td>\n",
       "      <td>36.0</td>\n",
       "      <td>Санкт-Петербург</td>\n",
       "      <td>31.03.2019</td>\n",
       "      <td>01.04.2019</td>\n",
       "      <td>Доставка</td>\n",
       "      <td>Колл-центр</td>\n",
       "      <td>Кредитная карта</td>\n",
       "      <td>1229.0</td>\n",
       "      <td>1229.0</td>\n",
       "      <td>Бонусы</td>\n",
       "      <td>10.0</td>\n",
       "      <td>NaN</td>\n",
       "    </tr>\n",
       "    <tr>\n",
       "      <th>2</th>\n",
       "      <td>3.0</td>\n",
       "      <td>M</td>\n",
       "      <td>36.0</td>\n",
       "      <td>Нижний Нивгород</td>\n",
       "      <td>08.03.2019</td>\n",
       "      <td>09.03.2019</td>\n",
       "      <td>Доставка</td>\n",
       "      <td>Колл-центр</td>\n",
       "      <td>Кредитная карта</td>\n",
       "      <td>332.0</td>\n",
       "      <td>332.0</td>\n",
       "      <td>NaN</td>\n",
       "      <td>7.0</td>\n",
       "      <td>NaN</td>\n",
       "    </tr>\n",
       "    <tr>\n",
       "      <th>3</th>\n",
       "      <td>4.0</td>\n",
       "      <td>F</td>\n",
       "      <td>36.0</td>\n",
       "      <td>Уфа</td>\n",
       "      <td>22.03.2019</td>\n",
       "      <td>23.03.2019</td>\n",
       "      <td>Доставка</td>\n",
       "      <td>Колл-центр</td>\n",
       "      <td>Кредитная карта</td>\n",
       "      <td>2127.0</td>\n",
       "      <td>2127.0</td>\n",
       "      <td>NaN</td>\n",
       "      <td>2.0</td>\n",
       "      <td>хамство в отделенит</td>\n",
       "    </tr>\n",
       "    <tr>\n",
       "      <th>4</th>\n",
       "      <td>5.0</td>\n",
       "      <td>F</td>\n",
       "      <td>36.0</td>\n",
       "      <td>Саров</td>\n",
       "      <td>21.03.2019</td>\n",
       "      <td>22.03.2019</td>\n",
       "      <td>Доставка</td>\n",
       "      <td>Колл-центр</td>\n",
       "      <td>Кредитная карта</td>\n",
       "      <td>1165.0</td>\n",
       "      <td>1165.0</td>\n",
       "      <td>NaN</td>\n",
       "      <td>7.0</td>\n",
       "      <td>NaN</td>\n",
       "    </tr>\n",
       "    <tr>\n",
       "      <th>...</th>\n",
       "      <td>...</td>\n",
       "      <td>...</td>\n",
       "      <td>...</td>\n",
       "      <td>...</td>\n",
       "      <td>...</td>\n",
       "      <td>...</td>\n",
       "      <td>...</td>\n",
       "      <td>...</td>\n",
       "      <td>...</td>\n",
       "      <td>...</td>\n",
       "      <td>...</td>\n",
       "      <td>...</td>\n",
       "      <td>...</td>\n",
       "      <td>...</td>\n",
       "    </tr>\n",
       "    <tr>\n",
       "      <th>9035</th>\n",
       "      <td>9036.0</td>\n",
       "      <td>M</td>\n",
       "      <td>51.0</td>\n",
       "      <td>Санкт-Петербург</td>\n",
       "      <td>21.03.2019</td>\n",
       "      <td>22.03.2019</td>\n",
       "      <td>Доставка</td>\n",
       "      <td>Отделение</td>\n",
       "      <td>Перевод</td>\n",
       "      <td>3637.0</td>\n",
       "      <td>3528.0</td>\n",
       "      <td>Физический</td>\n",
       "      <td>5.0</td>\n",
       "      <td>NaN</td>\n",
       "    </tr>\n",
       "    <tr>\n",
       "      <th>9036</th>\n",
       "      <td>9037.0</td>\n",
       "      <td>M</td>\n",
       "      <td>50.0</td>\n",
       "      <td>Нижний Нивгород</td>\n",
       "      <td>12.03.2019</td>\n",
       "      <td>13.03.2019</td>\n",
       "      <td>Комиссия</td>\n",
       "      <td>Колл-центр</td>\n",
       "      <td>Кредитная карта</td>\n",
       "      <td>2696.0</td>\n",
       "      <td>2616.0</td>\n",
       "      <td>NaN</td>\n",
       "      <td>4.0</td>\n",
       "      <td>NaN</td>\n",
       "    </tr>\n",
       "    <tr>\n",
       "      <th>9037</th>\n",
       "      <td>9038.0</td>\n",
       "      <td>M</td>\n",
       "      <td>32.0</td>\n",
       "      <td>Подольск</td>\n",
       "      <td>30.03.2019</td>\n",
       "      <td>31.03.2019</td>\n",
       "      <td>Комиссия</td>\n",
       "      <td>Колл-центр</td>\n",
       "      <td>Кредитная карта</td>\n",
       "      <td>911.0</td>\n",
       "      <td>857.0</td>\n",
       "      <td>Промокод</td>\n",
       "      <td>1.0</td>\n",
       "      <td>NaN</td>\n",
       "    </tr>\n",
       "    <tr>\n",
       "      <th>9038</th>\n",
       "      <td>9039.0</td>\n",
       "      <td>M</td>\n",
       "      <td>39.0</td>\n",
       "      <td>Москва</td>\n",
       "      <td>15.03.2019</td>\n",
       "      <td>16.03.2019</td>\n",
       "      <td>Доставка</td>\n",
       "      <td>Отделение</td>\n",
       "      <td>Перевод</td>\n",
       "      <td>2459.0</td>\n",
       "      <td>2214.0</td>\n",
       "      <td>NaN</td>\n",
       "      <td>5.0</td>\n",
       "      <td>NaN</td>\n",
       "    </tr>\n",
       "    <tr>\n",
       "      <th>9039</th>\n",
       "      <td>9040.0</td>\n",
       "      <td>F</td>\n",
       "      <td>40.0</td>\n",
       "      <td>Москва</td>\n",
       "      <td>15.03.2019</td>\n",
       "      <td>16.03.2019</td>\n",
       "      <td>Комиссия</td>\n",
       "      <td>Колл-центр</td>\n",
       "      <td>Кредитная карта</td>\n",
       "      <td>2083.0</td>\n",
       "      <td>2000.0</td>\n",
       "      <td>NaN</td>\n",
       "      <td>8.0</td>\n",
       "      <td>NaN</td>\n",
       "    </tr>\n",
       "  </tbody>\n",
       "</table>\n",
       "<p>9040 rows × 14 columns</p>\n",
       "</div>"
      ],
      "text/plain": [
       "      ID клиента Пол  Возраст            Город Дата поступления жалобы  \\\n",
       "0            1.0   F     21.0           Москва              02.03.2019   \n",
       "1            2.0   M     36.0  Санкт-Петербург              31.03.2019   \n",
       "2            3.0   M     36.0  Нижний Нивгород              08.03.2019   \n",
       "3            4.0   F     36.0              Уфа              22.03.2019   \n",
       "4            5.0   F     36.0            Саров              21.03.2019   \n",
       "...          ...  ..      ...              ...                     ...   \n",
       "9035      9036.0   M     51.0  Санкт-Петербург              21.03.2019   \n",
       "9036      9037.0   M     50.0  Нижний Нивгород              12.03.2019   \n",
       "9037      9038.0   M     32.0         Подольск              30.03.2019   \n",
       "9038      9039.0   M     39.0           Москва              15.03.2019   \n",
       "9039      9040.0   F     40.0           Москва              15.03.2019   \n",
       "\n",
       "     Дата закрытия жалобы Тематика жалобы Канал поступления жалобы  \\\n",
       "0              03.03.2019        Доставка                Отделение   \n",
       "1              01.04.2019        Доставка               Колл-центр   \n",
       "2              09.03.2019        Доставка               Колл-центр   \n",
       "3              23.03.2019        Доставка               Колл-центр   \n",
       "4              22.03.2019        Доставка               Колл-центр   \n",
       "...                   ...             ...                      ...   \n",
       "9035           22.03.2019        Доставка                Отделение   \n",
       "9036           13.03.2019        Комиссия               Колл-центр   \n",
       "9037           31.03.2019        Комиссия               Колл-центр   \n",
       "9038           16.03.2019        Доставка                Отделение   \n",
       "9039           16.03.2019        Комиссия               Колл-центр   \n",
       "\n",
       "              Продукт  Запрашиваемая сумма возмещения  Сумма выплаты клиенту  \\\n",
       "0             Перевод                          4313.0                 4313.0   \n",
       "1     Кредитная карта                          1229.0                 1229.0   \n",
       "2     Кредитная карта                           332.0                  332.0   \n",
       "3     Кредитная карта                          2127.0                 2127.0   \n",
       "4     Кредитная карта                          1165.0                 1165.0   \n",
       "...               ...                             ...                    ...   \n",
       "9035          Перевод                          3637.0                 3528.0   \n",
       "9036  Кредитная карта                          2696.0                 2616.0   \n",
       "9037  Кредитная карта                           911.0                  857.0   \n",
       "9038          Перевод                          2459.0                 2214.0   \n",
       "9039  Кредитная карта                          2083.0                 2000.0   \n",
       "\n",
       "     Тип подарка   CSI    Комментарий к CSI  \n",
       "0       Промокод   8.0                  NaN  \n",
       "1         Бонусы  10.0                  NaN  \n",
       "2            NaN   7.0                  NaN  \n",
       "3            NaN   2.0  хамство в отделенит  \n",
       "4            NaN   7.0                  NaN  \n",
       "...          ...   ...                  ...  \n",
       "9035  Физический   5.0                  NaN  \n",
       "9036         NaN   4.0                  NaN  \n",
       "9037    Промокод   1.0                  NaN  \n",
       "9038         NaN   5.0                  NaN  \n",
       "9039         NaN   8.0                  NaN  \n",
       "\n",
       "[9040 rows x 14 columns]"
      ]
     },
     "execution_count": 16,
     "metadata": {},
     "output_type": "execute_result"
    }
   ],
   "source": [
    "raw_ds"
   ]
  },
  {
   "cell_type": "markdown",
   "metadata": {},
   "source": [
    "## Гипотезы"
   ]
  },
  {
   "cell_type": "markdown",
   "metadata": {},
   "source": [
    "1) Тип подарка влияет на CSI\n",
    "\n",
    "2) % выплаты влияет на CSI\n",
    "\n",
    "3) Время ожидания влияет на CSI\n",
    "\n",
    "4) Возраст влияет на CSI\n",
    "\n",
    "5) Город \\ тип города влияет на CSI"
   ]
  },
  {
   "cell_type": "markdown",
   "metadata": {},
   "source": [
    "## Идеи"
   ]
  },
  {
   "cell_type": "markdown",
   "metadata": {},
   "source": [
    "**для лучшей интерпретации построить дерево  решений, возможно, переобученное** \n",
    "\n",
    "**влияние различных показателей оценивается через анализ значимости весов в модели линейной регрессии**"
   ]
  },
  {
   "cell_type": "code",
   "execution_count": 18,
   "metadata": {
    "scrolled": false
   },
   "outputs": [
    {
     "name": "stdout",
     "output_type": "stream",
     "text": [
      "<class 'pandas.core.frame.DataFrame'>\n",
      "Int64Index: 9040 entries, 0 to 9039\n",
      "Data columns (total 14 columns):\n",
      " #   Column                          Non-Null Count  Dtype  \n",
      "---  ------                          --------------  -----  \n",
      " 0   ID клиента                      9040 non-null   float64\n",
      " 1   Пол                             8920 non-null   object \n",
      " 2   Возраст                         9040 non-null   float64\n",
      " 3   Город                           9040 non-null   object \n",
      " 4   Дата поступления жалобы         9037 non-null   object \n",
      " 5   Дата закрытия жалобы            9039 non-null   object \n",
      " 6   Тематика жалобы                 9040 non-null   object \n",
      " 7   Канал поступления жалобы        9040 non-null   object \n",
      " 8   Продукт                         9040 non-null   object \n",
      " 9   Запрашиваемая сумма возмещения  9040 non-null   float64\n",
      " 10  Сумма выплаты клиенту           9040 non-null   float64\n",
      " 11  Тип подарка                     3477 non-null   object \n",
      " 12  CSI                             9040 non-null   float64\n",
      " 13  Комментарий к CSI               5 non-null      object \n",
      "dtypes: float64(5), object(9)\n",
      "memory usage: 1.0+ MB\n"
     ]
    }
   ],
   "source": [
    "raw_ds.info()"
   ]
  },
  {
   "cell_type": "code",
   "execution_count": 19,
   "metadata": {},
   "outputs": [
    {
     "data": {
      "text/html": [
       "<div>\n",
       "<style scoped>\n",
       "    .dataframe tbody tr th:only-of-type {\n",
       "        vertical-align: middle;\n",
       "    }\n",
       "\n",
       "    .dataframe tbody tr th {\n",
       "        vertical-align: top;\n",
       "    }\n",
       "\n",
       "    .dataframe thead th {\n",
       "        text-align: right;\n",
       "    }\n",
       "</style>\n",
       "<table border=\"1\" class=\"dataframe\">\n",
       "  <thead>\n",
       "    <tr style=\"text-align: right;\">\n",
       "      <th></th>\n",
       "      <th>ID клиента</th>\n",
       "      <th>Возраст</th>\n",
       "      <th>Запрашиваемая сумма возмещения</th>\n",
       "      <th>Сумма выплаты клиенту</th>\n",
       "      <th>CSI</th>\n",
       "    </tr>\n",
       "  </thead>\n",
       "  <tbody>\n",
       "    <tr>\n",
       "      <th>count</th>\n",
       "      <td>9040.00000</td>\n",
       "      <td>9040.000000</td>\n",
       "      <td>9040.000000</td>\n",
       "      <td>9040.000000</td>\n",
       "      <td>9040.000000</td>\n",
       "    </tr>\n",
       "    <tr>\n",
       "      <th>mean</th>\n",
       "      <td>4520.50000</td>\n",
       "      <td>40.960177</td>\n",
       "      <td>2262.620465</td>\n",
       "      <td>2154.383850</td>\n",
       "      <td>5.639381</td>\n",
       "    </tr>\n",
       "    <tr>\n",
       "      <th>std</th>\n",
       "      <td>2609.76755</td>\n",
       "      <td>10.933979</td>\n",
       "      <td>1140.369082</td>\n",
       "      <td>1090.007929</td>\n",
       "      <td>2.881139</td>\n",
       "    </tr>\n",
       "    <tr>\n",
       "      <th>min</th>\n",
       "      <td>1.00000</td>\n",
       "      <td>21.000000</td>\n",
       "      <td>300.000000</td>\n",
       "      <td>274.000000</td>\n",
       "      <td>1.000000</td>\n",
       "    </tr>\n",
       "    <tr>\n",
       "      <th>25%</th>\n",
       "      <td>2260.75000</td>\n",
       "      <td>32.000000</td>\n",
       "      <td>1296.750000</td>\n",
       "      <td>1228.000000</td>\n",
       "      <td>3.000000</td>\n",
       "    </tr>\n",
       "    <tr>\n",
       "      <th>50%</th>\n",
       "      <td>4520.50000</td>\n",
       "      <td>40.000000</td>\n",
       "      <td>2261.500000</td>\n",
       "      <td>2147.000000</td>\n",
       "      <td>6.000000</td>\n",
       "    </tr>\n",
       "    <tr>\n",
       "      <th>75%</th>\n",
       "      <td>6780.25000</td>\n",
       "      <td>50.000000</td>\n",
       "      <td>3216.000000</td>\n",
       "      <td>3063.000000</td>\n",
       "      <td>8.000000</td>\n",
       "    </tr>\n",
       "    <tr>\n",
       "      <th>max</th>\n",
       "      <td>9040.00000</td>\n",
       "      <td>64.000000</td>\n",
       "      <td>4994.000000</td>\n",
       "      <td>4988.000000</td>\n",
       "      <td>10.000000</td>\n",
       "    </tr>\n",
       "  </tbody>\n",
       "</table>\n",
       "</div>"
      ],
      "text/plain": [
       "       ID клиента      Возраст  Запрашиваемая сумма возмещения  \\\n",
       "count  9040.00000  9040.000000                     9040.000000   \n",
       "mean   4520.50000    40.960177                     2262.620465   \n",
       "std    2609.76755    10.933979                     1140.369082   \n",
       "min       1.00000    21.000000                      300.000000   \n",
       "25%    2260.75000    32.000000                     1296.750000   \n",
       "50%    4520.50000    40.000000                     2261.500000   \n",
       "75%    6780.25000    50.000000                     3216.000000   \n",
       "max    9040.00000    64.000000                     4994.000000   \n",
       "\n",
       "       Сумма выплаты клиенту          CSI  \n",
       "count            9040.000000  9040.000000  \n",
       "mean             2154.383850     5.639381  \n",
       "std              1090.007929     2.881139  \n",
       "min               274.000000     1.000000  \n",
       "25%              1228.000000     3.000000  \n",
       "50%              2147.000000     6.000000  \n",
       "75%              3063.000000     8.000000  \n",
       "max              4988.000000    10.000000  "
      ]
     },
     "execution_count": 19,
     "metadata": {},
     "output_type": "execute_result"
    }
   ],
   "source": [
    "raw_ds.describe()"
   ]
  },
  {
   "cell_type": "code",
   "execution_count": 17,
   "metadata": {
    "scrolled": true
   },
   "outputs": [
    {
     "data": {
      "text/plain": [
       "<matplotlib.axes._subplots.AxesSubplot at 0x214a0b81390>"
      ]
     },
     "execution_count": 17,
     "metadata": {},
     "output_type": "execute_result"
    },
    {
     "data": {
      "image/png": "[encoded data removed]",
      "text/plain": [
       "<Figure size 432x288 with 1 Axes>"
      ]
     },
     "metadata": {
      "needs_background": "light"
     },
     "output_type": "display_data"
    }
   ],
   "source": [
    "sns.distplot(raw_ds.CSI)"
   ]
  },
  {
   "cell_type": "code",
   "execution_count": 26,
   "metadata": {},
   "outputs": [
    {
     "data": {
      "text/plain": [
       "<matplotlib.axes._subplots.AxesSubplot at 0x214a0e1ef28>"
      ]
     },
     "execution_count": 26,
     "metadata": {},
     "output_type": "execute_result"
    },
    {
     "data": {
      "image/png": "[encoded data removed]",
      "text/plain": [
       "<Figure size 432x288 with 1 Axes>"
      ]
     },
     "metadata": {
      "needs_background": "light"
     },
     "output_type": "display_data"
    }
   ],
   "source": [
    "sns.distplot(raw_ds['Возраст'])"
   ]
  },
  {
   "cell_type": "code",
   "execution_count": 25,
   "metadata": {
    "collapsed": true
   },
   "outputs": [
    {
     "data": {
      "text/html": [
       "<div>\n",
       "<style scoped>\n",
       "    .dataframe tbody tr th:only-of-type {\n",
       "        vertical-align: middle;\n",
       "    }\n",
       "\n",
       "    .dataframe tbody tr th {\n",
       "        vertical-align: top;\n",
       "    }\n",
       "\n",
       "    .dataframe thead th {\n",
       "        text-align: right;\n",
       "    }\n",
       "</style>\n",
       "<table border=\"1\" class=\"dataframe\">\n",
       "  <thead>\n",
       "    <tr style=\"text-align: right;\">\n",
       "      <th></th>\n",
       "      <th>ID клиента</th>\n",
       "      <th>Возраст</th>\n",
       "      <th>Город</th>\n",
       "      <th>Дата поступления жалобы</th>\n",
       "      <th>Дата закрытия жалобы</th>\n",
       "      <th>Тематика жалобы</th>\n",
       "      <th>Канал поступления жалобы</th>\n",
       "      <th>Продукт</th>\n",
       "      <th>Запрашиваемая сумма возмещения</th>\n",
       "      <th>Сумма выплаты клиенту</th>\n",
       "      <th>Тип подарка</th>\n",
       "      <th>CSI</th>\n",
       "      <th>Комментарий к CSI</th>\n",
       "    </tr>\n",
       "    <tr>\n",
       "      <th>Пол</th>\n",
       "      <th></th>\n",
       "      <th></th>\n",
       "      <th></th>\n",
       "      <th></th>\n",
       "      <th></th>\n",
       "      <th></th>\n",
       "      <th></th>\n",
       "      <th></th>\n",
       "      <th></th>\n",
       "      <th></th>\n",
       "      <th></th>\n",
       "      <th></th>\n",
       "      <th></th>\n",
       "    </tr>\n",
       "  </thead>\n",
       "  <tbody>\n",
       "    <tr>\n",
       "      <th>F</th>\n",
       "      <td>4440</td>\n",
       "      <td>4440</td>\n",
       "      <td>4440</td>\n",
       "      <td>4438</td>\n",
       "      <td>4439</td>\n",
       "      <td>4440</td>\n",
       "      <td>4440</td>\n",
       "      <td>4440</td>\n",
       "      <td>4440</td>\n",
       "      <td>4440</td>\n",
       "      <td>1722</td>\n",
       "      <td>4440</td>\n",
       "      <td>4</td>\n",
       "    </tr>\n",
       "    <tr>\n",
       "      <th>M</th>\n",
       "      <td>4480</td>\n",
       "      <td>4480</td>\n",
       "      <td>4480</td>\n",
       "      <td>4479</td>\n",
       "      <td>4480</td>\n",
       "      <td>4480</td>\n",
       "      <td>4480</td>\n",
       "      <td>4480</td>\n",
       "      <td>4480</td>\n",
       "      <td>4480</td>\n",
       "      <td>1709</td>\n",
       "      <td>4480</td>\n",
       "      <td>1</td>\n",
       "    </tr>\n",
       "  </tbody>\n",
       "</table>\n",
       "</div>"
      ],
      "text/plain": [
       "     ID клиента  Возраст  Город  Дата поступления жалобы  \\\n",
       "Пол                                                        \n",
       "F          4440     4440   4440                     4438   \n",
       "M          4480     4480   4480                     4479   \n",
       "\n",
       "     Дата закрытия жалобы  Тематика жалобы  Канал поступления жалобы  Продукт  \\\n",
       "Пол                                                                             \n",
       "F                    4439             4440                      4440     4440   \n",
       "M                    4480             4480                      4480     4480   \n",
       "\n",
       "     Запрашиваемая сумма возмещения  Сумма выплаты клиенту  Тип подарка   CSI  \\\n",
       "Пол                                                                             \n",
       "F                              4440                   4440         1722  4440   \n",
       "M                              4480                   4480         1709  4480   \n",
       "\n",
       "     Комментарий к CSI  \n",
       "Пол                     \n",
       "F                    4  \n",
       "M                    1  "
      ]
     },
     "execution_count": 25,
     "metadata": {},
     "output_type": "execute_result"
    }
   ],
   "source": [
    "raw_ds.groupby(raw_ds['Пол']).count()"
   ]
  },
  {
   "cell_type": "code",
   "execution_count": 28,
   "metadata": {},
   "outputs": [
    {
     "data": {
      "text/plain": [
       "M    4480\n",
       "F    4440\n",
       "Name: Пол, dtype: int64"
      ]
     },
     "execution_count": 28,
     "metadata": {},
     "output_type": "execute_result"
    }
   ],
   "source": [
    "pd.value_counts(raw_ds['Пол'])"
   ]
  },
  {
   "cell_type": "code",
   "execution_count": 29,
   "metadata": {},
   "outputs": [
    {
     "data": {
      "text/plain": [
       "Москва              1362\n",
       "Нижний Нивгород     1356\n",
       "Подольск            1129\n",
       "Уфа                 1129\n",
       "Набережные челны     904\n",
       "Санкт-Петербург      904\n",
       "Таганрог             903\n",
       "Саров                677\n",
       "Новый Уренгой        676\n",
       "Name: Город, dtype: int64"
      ]
     },
     "execution_count": 29,
     "metadata": {},
     "output_type": "execute_result"
    }
   ],
   "source": [
    "pd.value_counts(raw_ds['Город'])"
   ]
  },
  {
   "cell_type": "code",
   "execution_count": 30,
   "metadata": {
    "scrolled": true
   },
   "outputs": [
    {
     "data": {
      "text/plain": [
       "Кредитная карта    4812\n",
       "Перевод            4228\n",
       "Name: Продукт, dtype: int64"
      ]
     },
     "execution_count": 30,
     "metadata": {},
     "output_type": "execute_result"
    }
   ],
   "source": [
    "pd.value_counts(raw_ds['Продукт'])"
   ]
  },
  {
   "cell_type": "markdown",
   "metadata": {},
   "source": [
    "## Создаём рабочую копию и начинаем изменения"
   ]
  },
  {
   "cell_type": "code",
   "execution_count": 101,
   "metadata": {},
   "outputs": [],
   "source": [
    "ds1 = raw_ds.copy() #создаём аналитическую копию"
   ]
  },
  {
   "cell_type": "code",
   "execution_count": 102,
   "metadata": {},
   "outputs": [
    {
     "name": "stdout",
     "output_type": "stream",
     "text": [
      "<class 'pandas.core.frame.DataFrame'>\n",
      "Int64Index: 9040 entries, 0 to 9039\n",
      "Data columns (total 14 columns):\n",
      " #   Column                          Non-Null Count  Dtype  \n",
      "---  ------                          --------------  -----  \n",
      " 0   ID клиента                      9040 non-null   float64\n",
      " 1   Пол                             8920 non-null   object \n",
      " 2   Возраст                         9040 non-null   float64\n",
      " 3   Город                           9040 non-null   object \n",
      " 4   Дата поступления жалобы         9037 non-null   object \n",
      " 5   Дата закрытия жалобы            9039 non-null   object \n",
      " 6   Тематика жалобы                 9040 non-null   object \n",
      " 7   Канал поступления жалобы        9040 non-null   object \n",
      " 8   Продукт                         9040 non-null   object \n",
      " 9   Запрашиваемая сумма возмещения  9040 non-null   float64\n",
      " 10  Сумма выплаты клиенту           9040 non-null   float64\n",
      " 11  Тип подарка                     3477 non-null   object \n",
      " 12  CSI                             9040 non-null   float64\n",
      " 13  Комментарий к CSI               5 non-null      object \n",
      "dtypes: float64(5), object(9)\n",
      "memory usage: 1.0+ MB\n"
     ]
    }
   ],
   "source": [
    "ds1.info()"
   ]
  },
  {
   "cell_type": "code",
   "execution_count": 103,
   "metadata": {
    "scrolled": true
   },
   "outputs": [],
   "source": [
    "ds1['Пол'].fillna('M', inplace=True) #очень тупо, кое-кто эту методологию успешно использует:)"
   ]
  },
  {
   "cell_type": "code",
   "execution_count": 122,
   "metadata": {
    "scrolled": true
   },
   "outputs": [],
   "source": [
    "ds1.drop(index= list(ds1[ds1['Дата поступления жалобы'].isna()].index), inplace=True)"
   ]
  },
  {
   "cell_type": "code",
   "execution_count": 128,
   "metadata": {},
   "outputs": [],
   "source": [
    "ds1['Тип подарка'].fillna('Отсутствует', inplace=True)"
   ]
  },
  {
   "cell_type": "code",
   "execution_count": 135,
   "metadata": {
    "scrolled": true
   },
   "outputs": [],
   "source": [
    "ds1.drop(columns=['Комментарий к CSI'], inplace=True) #малоинформативен"
   ]
  },
  {
   "cell_type": "code",
   "execution_count": 138,
   "metadata": {},
   "outputs": [],
   "source": [
    "f = lambda x: dt.strptime(x, '%d-%m-%Y')\n",
    "r = lambda x: str(x).replace('.', '-')\n",
    "ds1['Дата поступления жалобы'] = (ds1['Дата поступления жалобы'].apply(r)).apply(f)\n",
    "ds1['Дата закрытия жалобы'] = (ds1['Дата закрытия жалобы'].apply(r)).apply(f)"
   ]
  },
  {
   "cell_type": "code",
   "execution_count": 154,
   "metadata": {},
   "outputs": [],
   "source": [
    "ds1['Период'] = (ds1['Дата закрытия жалобы'] - ds1['Дата поступления жалобы']).astype(np.int64)/86400000000000"
   ]
  },
  {
   "cell_type": "code",
   "execution_count": 157,
   "metadata": {},
   "outputs": [
    {
     "data": {
      "text/plain": [
       "1.0     7192\n",
       "5.0      902\n",
       "4.0      595\n",
       "2.0      345\n",
       "12.0       1\n",
       "7.0        1\n",
       "3.0        1\n",
       "Name: Период, dtype: int64"
      ]
     },
     "execution_count": 157,
     "metadata": {},
     "output_type": "execute_result"
    }
   ],
   "source": [
    "ds1['Период'].value_counts()"
   ]
  },
  {
   "cell_type": "code",
   "execution_count": 160,
   "metadata": {},
   "outputs": [],
   "source": [
    "ds1['Штраф'] = ds1['Запрашиваемая сумма возмещения'] - ds1['Сумма выплаты клиенту'] #с занижением суммы, возможно, связан CSI"
   ]
  },
  {
   "cell_type": "code",
   "execution_count": 162,
   "metadata": {},
   "outputs": [
    {
     "data": {
      "text/plain": [
       "<matplotlib.axes._subplots.AxesSubplot at 0x214b5f56d30>"
      ]
     },
     "execution_count": 162,
     "metadata": {},
     "output_type": "execute_result"
    },
    {
     "data": {
      "image/png": "[encoded data removed]",
      "text/plain": [
       "<Figure size 432x288 with 1 Axes>"
      ]
     },
     "metadata": {
      "needs_background": "light"
     },
     "output_type": "display_data"
    }
   ],
   "source": [
    "sns.distplot(ds1['Штраф'])"
   ]
  },
  {
   "cell_type": "code",
   "execution_count": 161,
   "metadata": {
    "scrolled": true
   },
   "outputs": [
    {
     "data": {
      "text/html": [
       "<div>\n",
       "<style scoped>\n",
       "    .dataframe tbody tr th:only-of-type {\n",
       "        vertical-align: middle;\n",
       "    }\n",
       "\n",
       "    .dataframe tbody tr th {\n",
       "        vertical-align: top;\n",
       "    }\n",
       "\n",
       "    .dataframe thead th {\n",
       "        text-align: right;\n",
       "    }\n",
       "</style>\n",
       "<table border=\"1\" class=\"dataframe\">\n",
       "  <thead>\n",
       "    <tr style=\"text-align: right;\">\n",
       "      <th></th>\n",
       "      <th>ID клиента</th>\n",
       "      <th>Пол</th>\n",
       "      <th>Возраст</th>\n",
       "      <th>Город</th>\n",
       "      <th>Дата поступления жалобы</th>\n",
       "      <th>Дата закрытия жалобы</th>\n",
       "      <th>Тематика жалобы</th>\n",
       "      <th>Канал поступления жалобы</th>\n",
       "      <th>Продукт</th>\n",
       "      <th>Запрашиваемая сумма возмещения</th>\n",
       "      <th>Сумма выплаты клиенту</th>\n",
       "      <th>Тип подарка</th>\n",
       "      <th>CSI</th>\n",
       "      <th>Период</th>\n",
       "      <th>Штраф</th>\n",
       "    </tr>\n",
       "  </thead>\n",
       "  <tbody>\n",
       "    <tr>\n",
       "      <th>0</th>\n",
       "      <td>1.0</td>\n",
       "      <td>F</td>\n",
       "      <td>21.0</td>\n",
       "      <td>Москва</td>\n",
       "      <td>2019-03-02</td>\n",
       "      <td>2019-03-03</td>\n",
       "      <td>Доставка</td>\n",
       "      <td>Отделение</td>\n",
       "      <td>Перевод</td>\n",
       "      <td>4313.0</td>\n",
       "      <td>4313.0</td>\n",
       "      <td>Промокод</td>\n",
       "      <td>8.0</td>\n",
       "      <td>1.0</td>\n",
       "      <td>0.0</td>\n",
       "    </tr>\n",
       "    <tr>\n",
       "      <th>1</th>\n",
       "      <td>2.0</td>\n",
       "      <td>M</td>\n",
       "      <td>36.0</td>\n",
       "      <td>Санкт-Петербург</td>\n",
       "      <td>2019-03-31</td>\n",
       "      <td>2019-04-01</td>\n",
       "      <td>Доставка</td>\n",
       "      <td>Колл-центр</td>\n",
       "      <td>Кредитная карта</td>\n",
       "      <td>1229.0</td>\n",
       "      <td>1229.0</td>\n",
       "      <td>Бонусы</td>\n",
       "      <td>10.0</td>\n",
       "      <td>1.0</td>\n",
       "      <td>0.0</td>\n",
       "    </tr>\n",
       "    <tr>\n",
       "      <th>2</th>\n",
       "      <td>3.0</td>\n",
       "      <td>M</td>\n",
       "      <td>36.0</td>\n",
       "      <td>Нижний Нивгород</td>\n",
       "      <td>2019-03-08</td>\n",
       "      <td>2019-03-09</td>\n",
       "      <td>Доставка</td>\n",
       "      <td>Колл-центр</td>\n",
       "      <td>Кредитная карта</td>\n",
       "      <td>332.0</td>\n",
       "      <td>332.0</td>\n",
       "      <td>Отсутствует</td>\n",
       "      <td>7.0</td>\n",
       "      <td>1.0</td>\n",
       "      <td>0.0</td>\n",
       "    </tr>\n",
       "    <tr>\n",
       "      <th>3</th>\n",
       "      <td>4.0</td>\n",
       "      <td>F</td>\n",
       "      <td>36.0</td>\n",
       "      <td>Уфа</td>\n",
       "      <td>2019-03-22</td>\n",
       "      <td>2019-03-23</td>\n",
       "      <td>Доставка</td>\n",
       "      <td>Колл-центр</td>\n",
       "      <td>Кредитная карта</td>\n",
       "      <td>2127.0</td>\n",
       "      <td>2127.0</td>\n",
       "      <td>Отсутствует</td>\n",
       "      <td>2.0</td>\n",
       "      <td>1.0</td>\n",
       "      <td>0.0</td>\n",
       "    </tr>\n",
       "    <tr>\n",
       "      <th>4</th>\n",
       "      <td>5.0</td>\n",
       "      <td>F</td>\n",
       "      <td>36.0</td>\n",
       "      <td>Саров</td>\n",
       "      <td>2019-03-21</td>\n",
       "      <td>2019-03-22</td>\n",
       "      <td>Доставка</td>\n",
       "      <td>Колл-центр</td>\n",
       "      <td>Кредитная карта</td>\n",
       "      <td>1165.0</td>\n",
       "      <td>1165.0</td>\n",
       "      <td>Отсутствует</td>\n",
       "      <td>7.0</td>\n",
       "      <td>1.0</td>\n",
       "      <td>0.0</td>\n",
       "    </tr>\n",
       "    <tr>\n",
       "      <th>...</th>\n",
       "      <td>...</td>\n",
       "      <td>...</td>\n",
       "      <td>...</td>\n",
       "      <td>...</td>\n",
       "      <td>...</td>\n",
       "      <td>...</td>\n",
       "      <td>...</td>\n",
       "      <td>...</td>\n",
       "      <td>...</td>\n",
       "      <td>...</td>\n",
       "      <td>...</td>\n",
       "      <td>...</td>\n",
       "      <td>...</td>\n",
       "      <td>...</td>\n",
       "      <td>...</td>\n",
       "    </tr>\n",
       "    <tr>\n",
       "      <th>9035</th>\n",
       "      <td>9036.0</td>\n",
       "      <td>M</td>\n",
       "      <td>51.0</td>\n",
       "      <td>Санкт-Петербург</td>\n",
       "      <td>2019-03-21</td>\n",
       "      <td>2019-03-22</td>\n",
       "      <td>Доставка</td>\n",
       "      <td>Отделение</td>\n",
       "      <td>Перевод</td>\n",
       "      <td>3637.0</td>\n",
       "      <td>3528.0</td>\n",
       "      <td>Физический</td>\n",
       "      <td>5.0</td>\n",
       "      <td>1.0</td>\n",
       "      <td>109.0</td>\n",
       "    </tr>\n",
       "    <tr>\n",
       "      <th>9036</th>\n",
       "      <td>9037.0</td>\n",
       "      <td>M</td>\n",
       "      <td>50.0</td>\n",
       "      <td>Нижний Нивгород</td>\n",
       "      <td>2019-03-12</td>\n",
       "      <td>2019-03-13</td>\n",
       "      <td>Комиссия</td>\n",
       "      <td>Колл-центр</td>\n",
       "      <td>Кредитная карта</td>\n",
       "      <td>2696.0</td>\n",
       "      <td>2616.0</td>\n",
       "      <td>Отсутствует</td>\n",
       "      <td>4.0</td>\n",
       "      <td>1.0</td>\n",
       "      <td>80.0</td>\n",
       "    </tr>\n",
       "    <tr>\n",
       "      <th>9037</th>\n",
       "      <td>9038.0</td>\n",
       "      <td>M</td>\n",
       "      <td>32.0</td>\n",
       "      <td>Подольск</td>\n",
       "      <td>2019-03-30</td>\n",
       "      <td>2019-03-31</td>\n",
       "      <td>Комиссия</td>\n",
       "      <td>Колл-центр</td>\n",
       "      <td>Кредитная карта</td>\n",
       "      <td>911.0</td>\n",
       "      <td>857.0</td>\n",
       "      <td>Промокод</td>\n",
       "      <td>1.0</td>\n",
       "      <td>1.0</td>\n",
       "      <td>54.0</td>\n",
       "    </tr>\n",
       "    <tr>\n",
       "      <th>9038</th>\n",
       "      <td>9039.0</td>\n",
       "      <td>M</td>\n",
       "      <td>39.0</td>\n",
       "      <td>Москва</td>\n",
       "      <td>2019-03-15</td>\n",
       "      <td>2019-03-16</td>\n",
       "      <td>Доставка</td>\n",
       "      <td>Отделение</td>\n",
       "      <td>Перевод</td>\n",
       "      <td>2459.0</td>\n",
       "      <td>2214.0</td>\n",
       "      <td>Отсутствует</td>\n",
       "      <td>5.0</td>\n",
       "      <td>1.0</td>\n",
       "      <td>245.0</td>\n",
       "    </tr>\n",
       "    <tr>\n",
       "      <th>9039</th>\n",
       "      <td>9040.0</td>\n",
       "      <td>F</td>\n",
       "      <td>40.0</td>\n",
       "      <td>Москва</td>\n",
       "      <td>2019-03-15</td>\n",
       "      <td>2019-03-16</td>\n",
       "      <td>Комиссия</td>\n",
       "      <td>Колл-центр</td>\n",
       "      <td>Кредитная карта</td>\n",
       "      <td>2083.0</td>\n",
       "      <td>2000.0</td>\n",
       "      <td>Отсутствует</td>\n",
       "      <td>8.0</td>\n",
       "      <td>1.0</td>\n",
       "      <td>83.0</td>\n",
       "    </tr>\n",
       "  </tbody>\n",
       "</table>\n",
       "<p>9037 rows × 15 columns</p>\n",
       "</div>"
      ],
      "text/plain": [
       "      ID клиента Пол  Возраст            Город Дата поступления жалобы  \\\n",
       "0            1.0   F     21.0           Москва              2019-03-02   \n",
       "1            2.0   M     36.0  Санкт-Петербург              2019-03-31   \n",
       "2            3.0   M     36.0  Нижний Нивгород              2019-03-08   \n",
       "3            4.0   F     36.0              Уфа              2019-03-22   \n",
       "4            5.0   F     36.0            Саров              2019-03-21   \n",
       "...          ...  ..      ...              ...                     ...   \n",
       "9035      9036.0   M     51.0  Санкт-Петербург              2019-03-21   \n",
       "9036      9037.0   M     50.0  Нижний Нивгород              2019-03-12   \n",
       "9037      9038.0   M     32.0         Подольск              2019-03-30   \n",
       "9038      9039.0   M     39.0           Москва              2019-03-15   \n",
       "9039      9040.0   F     40.0           Москва              2019-03-15   \n",
       "\n",
       "     Дата закрытия жалобы Тематика жалобы Канал поступления жалобы  \\\n",
       "0              2019-03-03        Доставка                Отделение   \n",
       "1              2019-04-01        Доставка               Колл-центр   \n",
       "2              2019-03-09        Доставка               Колл-центр   \n",
       "3              2019-03-23        Доставка               Колл-центр   \n",
       "4              2019-03-22        Доставка               Колл-центр   \n",
       "...                   ...             ...                      ...   \n",
       "9035           2019-03-22        Доставка                Отделение   \n",
       "9036           2019-03-13        Комиссия               Колл-центр   \n",
       "9037           2019-03-31        Комиссия               Колл-центр   \n",
       "9038           2019-03-16        Доставка                Отделение   \n",
       "9039           2019-03-16        Комиссия               Колл-центр   \n",
       "\n",
       "              Продукт  Запрашиваемая сумма возмещения  Сумма выплаты клиенту  \\\n",
       "0             Перевод                          4313.0                 4313.0   \n",
       "1     Кредитная карта                          1229.0                 1229.0   \n",
       "2     Кредитная карта                           332.0                  332.0   \n",
       "3     Кредитная карта                          2127.0                 2127.0   \n",
       "4     Кредитная карта                          1165.0                 1165.0   \n",
       "...               ...                             ...                    ...   \n",
       "9035          Перевод                          3637.0                 3528.0   \n",
       "9036  Кредитная карта                          2696.0                 2616.0   \n",
       "9037  Кредитная карта                           911.0                  857.0   \n",
       "9038          Перевод                          2459.0                 2214.0   \n",
       "9039  Кредитная карта                          2083.0                 2000.0   \n",
       "\n",
       "      Тип подарка   CSI  Период  Штраф  \n",
       "0        Промокод   8.0     1.0    0.0  \n",
       "1          Бонусы  10.0     1.0    0.0  \n",
       "2     Отсутствует   7.0     1.0    0.0  \n",
       "3     Отсутствует   2.0     1.0    0.0  \n",
       "4     Отсутствует   7.0     1.0    0.0  \n",
       "...           ...   ...     ...    ...  \n",
       "9035   Физический   5.0     1.0  109.0  \n",
       "9036  Отсутствует   4.0     1.0   80.0  \n",
       "9037     Промокод   1.0     1.0   54.0  \n",
       "9038  Отсутствует   5.0     1.0  245.0  \n",
       "9039  Отсутствует   8.0     1.0   83.0  \n",
       "\n",
       "[9037 rows x 15 columns]"
      ]
     },
     "execution_count": 161,
     "metadata": {},
     "output_type": "execute_result"
    }
   ],
   "source": [
    "ds1"
   ]
  },
  {
   "cell_type": "code",
   "execution_count": 163,
   "metadata": {
    "scrolled": false
   },
   "outputs": [
    {
     "name": "stdout",
     "output_type": "stream",
     "text": [
      "<class 'pandas.core.frame.DataFrame'>\n",
      "Int64Index: 9037 entries, 0 to 9039\n",
      "Data columns (total 15 columns):\n",
      " #   Column                          Non-Null Count  Dtype         \n",
      "---  ------                          --------------  -----         \n",
      " 0   ID клиента                      9037 non-null   float64       \n",
      " 1   Пол                             9037 non-null   object        \n",
      " 2   Возраст                         9037 non-null   float64       \n",
      " 3   Город                           9037 non-null   object        \n",
      " 4   Дата поступления жалобы         9037 non-null   datetime64[ns]\n",
      " 5   Дата закрытия жалобы            9037 non-null   datetime64[ns]\n",
      " 6   Тематика жалобы                 9037 non-null   object        \n",
      " 7   Канал поступления жалобы        9037 non-null   object        \n",
      " 8   Продукт                         9037 non-null   object        \n",
      " 9   Запрашиваемая сумма возмещения  9037 non-null   float64       \n",
      " 10  Сумма выплаты клиенту           9037 non-null   float64       \n",
      " 11  Тип подарка                     9037 non-null   object        \n",
      " 12  CSI                             9037 non-null   float64       \n",
      " 13  Период                          9037 non-null   float64       \n",
      " 14  Штраф                           9037 non-null   float64       \n",
      "dtypes: datetime64[ns](2), float64(7), object(6)\n",
      "memory usage: 1.4+ MB\n"
     ]
    }
   ],
   "source": [
    "ds1.info()"
   ]
  },
  {
   "cell_type": "code",
   "execution_count": 164,
   "metadata": {},
   "outputs": [],
   "source": [
    "ds2 = ds1.copy()"
   ]
  },
  {
   "cell_type": "code",
   "execution_count": 167,
   "metadata": {},
   "outputs": [],
   "source": [
    "#удаляем линейно зависимые и нерелевантные столбцы\n",
    "ds2.drop(columns=['Дата поступления жалобы', 'Дата закрытия жалобы', 'ID клиента', 'Сумма выплаты клиенту'], inplace=True)"
   ]
  },
  {
   "cell_type": "code",
   "execution_count": 177,
   "metadata": {},
   "outputs": [],
   "source": [
    "labels = ds2['CSI']"
   ]
  },
  {
   "cell_type": "code",
   "execution_count": 179,
   "metadata": {},
   "outputs": [],
   "source": [
    "ds2.drop(columns='CSI', inplace=True)"
   ]
  },
  {
   "cell_type": "code",
   "execution_count": 180,
   "metadata": {},
   "outputs": [
    {
     "name": "stdout",
     "output_type": "stream",
     "text": [
      "<class 'pandas.core.frame.DataFrame'>\n",
      "Int64Index: 9037 entries, 0 to 9039\n",
      "Data columns (total 10 columns):\n",
      " #   Column                          Non-Null Count  Dtype  \n",
      "---  ------                          --------------  -----  \n",
      " 0   Пол                             9037 non-null   object \n",
      " 1   Возраст                         9037 non-null   float64\n",
      " 2   Город                           9037 non-null   object \n",
      " 3   Тематика жалобы                 9037 non-null   object \n",
      " 4   Канал поступления жалобы        9037 non-null   object \n",
      " 5   Продукт                         9037 non-null   object \n",
      " 6   Запрашиваемая сумма возмещения  9037 non-null   float64\n",
      " 7   Тип подарка                     9037 non-null   object \n",
      " 8   Период                          9037 non-null   float64\n",
      " 9   Штраф                           9037 non-null   float64\n",
      "dtypes: float64(4), object(6)\n",
      "memory usage: 776.6+ KB\n"
     ]
    }
   ],
   "source": [
    "ds2.info()"
   ]
  },
  {
   "cell_type": "code",
   "execution_count": 181,
   "metadata": {},
   "outputs": [],
   "source": [
    "categorical = list(ds2.dtypes[ds2.dtypes == \"object\"].index)"
   ]
  },
  {
   "cell_type": "code",
   "execution_count": 182,
   "metadata": {
    "scrolled": true
   },
   "outputs": [
    {
     "data": {
      "text/plain": [
       "['Пол',\n",
       " 'Город',\n",
       " 'Тематика жалобы',\n",
       " 'Канал поступления жалобы',\n",
       " 'Продукт',\n",
       " 'Тип подарка']"
      ]
     },
     "execution_count": 182,
     "metadata": {},
     "output_type": "execute_result"
    }
   ],
   "source": [
    "categorical"
   ]
  },
  {
   "cell_type": "code",
   "execution_count": 183,
   "metadata": {},
   "outputs": [],
   "source": [
    "numeric = list((ds2.select_dtypes([np.number])).columns)"
   ]
  },
  {
   "cell_type": "code",
   "execution_count": 184,
   "metadata": {},
   "outputs": [
    {
     "data": {
      "text/plain": [
       "['Возраст', 'Запрашиваемая сумма возмещения', 'Период', 'Штраф']"
      ]
     },
     "execution_count": 184,
     "metadata": {},
     "output_type": "execute_result"
    }
   ],
   "source": [
    "numeric"
   ]
  },
  {
   "cell_type": "code",
   "execution_count": 185,
   "metadata": {},
   "outputs": [
    {
     "data": {
      "text/plain": [
       "0        8.0\n",
       "1       10.0\n",
       "2        7.0\n",
       "3        2.0\n",
       "4        7.0\n",
       "        ... \n",
       "9035     5.0\n",
       "9036     4.0\n",
       "9037     1.0\n",
       "9038     5.0\n",
       "9039     8.0\n",
       "Name: CSI, Length: 9037, dtype: float64"
      ]
     },
     "execution_count": 185,
     "metadata": {},
     "output_type": "execute_result"
    }
   ],
   "source": [
    "labels"
   ]
  },
  {
   "cell_type": "code",
   "execution_count": 199,
   "metadata": {},
   "outputs": [],
   "source": [
    "X_train, X_test, y_train, y_test = train_test_split(ds2, labels, test_size=0.3, random_state=42)"
   ]
  },
  {
   "cell_type": "code",
   "execution_count": 216,
   "metadata": {},
   "outputs": [],
   "source": [
    "ds_to_plot = X_train.copy()\n",
    "ds_to_plot['CSI'] = y_train"
   ]
  },
  {
   "cell_type": "code",
   "execution_count": 217,
   "metadata": {},
   "outputs": [
    {
     "data": {
      "text/plain": [
       "array([[<matplotlib.axes._subplots.AxesSubplot object at 0x00000214D1F69128>,\n",
       "        <matplotlib.axes._subplots.AxesSubplot object at 0x00000214D1D75A90>,\n",
       "        <matplotlib.axes._subplots.AxesSubplot object at 0x00000214D1DB5BE0>,\n",
       "        <matplotlib.axes._subplots.AxesSubplot object at 0x00000214D1E2F908>,\n",
       "        <matplotlib.axes._subplots.AxesSubplot object at 0x00000214D1E5FB70>],\n",
       "       [<matplotlib.axes._subplots.AxesSubplot object at 0x00000214D1E8EDD8>,\n",
       "        <matplotlib.axes._subplots.AxesSubplot object at 0x00000214D1ECD080>,\n",
       "        <matplotlib.axes._subplots.AxesSubplot object at 0x00000214D1EFD2B0>,\n",
       "        <matplotlib.axes._subplots.AxesSubplot object at 0x00000214D1EFD320>,\n",
       "        <matplotlib.axes._subplots.AxesSubplot object at 0x00000214D211C7B8>],\n",
       "       [<matplotlib.axes._subplots.AxesSubplot object at 0x00000214D2151A20>,\n",
       "        <matplotlib.axes._subplots.AxesSubplot object at 0x00000214D218A5F8>,\n",
       "        <matplotlib.axes._subplots.AxesSubplot object at 0x00000214D21BB978>,\n",
       "        <matplotlib.axes._subplots.AxesSubplot object at 0x00000214D21EDCF8>,\n",
       "        <matplotlib.axes._subplots.AxesSubplot object at 0x00000214D222B0B8>],\n",
       "       [<matplotlib.axes._subplots.AxesSubplot object at 0x00000214D225D438>,\n",
       "        <matplotlib.axes._subplots.AxesSubplot object at 0x00000214D228C7B8>,\n",
       "        <matplotlib.axes._subplots.AxesSubplot object at 0x00000214D22BFB38>,\n",
       "        <matplotlib.axes._subplots.AxesSubplot object at 0x00000214D22F0EB8>,\n",
       "        <matplotlib.axes._subplots.AxesSubplot object at 0x00000214D232E278>],\n",
       "       [<matplotlib.axes._subplots.AxesSubplot object at 0x00000214D23605F8>,\n",
       "        <matplotlib.axes._subplots.AxesSubplot object at 0x00000214D2393978>,\n",
       "        <matplotlib.axes._subplots.AxesSubplot object at 0x00000214D23C4CF8>,\n",
       "        <matplotlib.axes._subplots.AxesSubplot object at 0x00000214D24040B8>,\n",
       "        <matplotlib.axes._subplots.AxesSubplot object at 0x00000214D2437438>]],\n",
       "      dtype=object)"
      ]
     },
     "execution_count": 217,
     "metadata": {},
     "output_type": "execute_result"
    },
    {
     "data": {
      "image/png": "[encoded data removed]",
      "text/plain": [
       "<Figure size 720x720 with 25 Axes>"
      ]
     },
     "metadata": {
      "needs_background": "light"
     },
     "output_type": "display_data"
    }
   ],
   "source": [
    "pd.plotting.scatter_matrix(ds_to_plot, figsize=(10,10), alpha=0.1)"
   ]
  },
  {
   "cell_type": "markdown",
   "metadata": {},
   "source": [
    "### <font color = 'red'> Ни один числовой признак не коррелирует с целевой переменной, возникает впечатление, что меня обманывают </font>"
   ]
  },
  {
   "cell_type": "code",
   "execution_count": 221,
   "metadata": {},
   "outputs": [],
   "source": [
    "column_transformer = ColumnTransformer([\n",
    "    ('ohe', OneHotEncoder(handle_unknown=\"ignore\"), categorical)])"
   ]
  },
  {
   "cell_type": "code",
   "execution_count": 222,
   "metadata": {},
   "outputs": [
    {
     "data": {
      "text/plain": [
       "<6325x21 sparse matrix of type '<class 'numpy.float64'>'\n",
       "\twith 37950 stored elements in Compressed Sparse Row format>"
      ]
     },
     "execution_count": 222,
     "metadata": {},
     "output_type": "execute_result"
    }
   ],
   "source": [
    "column_transformer.fit_transform(X_train)"
   ]
  },
  {
   "cell_type": "code",
   "execution_count": 225,
   "metadata": {},
   "outputs": [],
   "source": [
    "pipeline = Pipeline(steps=[\n",
    "    ('ohe_and_scaling', column_transformer),\n",
    "    ('regression', Ridge())\n",
    "])"
   ]
  },
  {
   "cell_type": "code",
   "execution_count": 226,
   "metadata": {},
   "outputs": [],
   "source": [
    "model = pipeline.fit(X_train, y_train)"
   ]
  },
  {
   "cell_type": "code",
   "execution_count": 228,
   "metadata": {},
   "outputs": [],
   "source": [
    "y_pred = model.predict(X_test)"
   ]
  },
  {
   "cell_type": "code",
   "execution_count": null,
   "metadata": {},
   "outputs": [],
   "source": []
  },
  {
   "cell_type": "code",
   "execution_count": null,
   "metadata": {},
   "outputs": [],
   "source": []
  },
  {
   "cell_type": "code",
   "execution_count": null,
   "metadata": {},
   "outputs": [],
   "source": []
  },
  {
   "cell_type": "code",
   "execution_count": 47,
   "metadata": {
    "collapsed": true
   },
   "outputs": [
    {
     "ename": "TypeError",
     "evalue": "strptime() argument 1 must be str, not Series",
     "output_type": "error",
     "traceback": [
      "\u001b[1;31m---------------------------------------------------------------------------\u001b[0m",
      "\u001b[1;31mTypeError\u001b[0m                                 Traceback (most recent call last)",
      "\u001b[1;32m<ipython-input-47-6952a1963e0f>\u001b[0m in \u001b[0;36m<module>\u001b[1;34m\u001b[0m\n\u001b[1;32m----> 1\u001b[1;33m \u001b[0mds1\u001b[0m\u001b[1;33m[\u001b[0m\u001b[1;34m'Date_diff'\u001b[0m\u001b[1;33m]\u001b[0m \u001b[1;33m=\u001b[0m \u001b[0mds1\u001b[0m\u001b[1;33m.\u001b[0m\u001b[0mapply\u001b[0m\u001b[1;33m(\u001b[0m\u001b[0mdays_between\u001b[0m\u001b[1;33m(\u001b[0m\u001b[0mds1\u001b[0m\u001b[1;33m[\u001b[0m\u001b[1;34m'Дата закрытия жалобы'\u001b[0m\u001b[1;33m]\u001b[0m\u001b[1;33m,\u001b[0m \u001b[0mds1\u001b[0m\u001b[1;33m[\u001b[0m\u001b[1;34m'Дата поступления жалобы'\u001b[0m\u001b[1;33m]\u001b[0m\u001b[1;33m)\u001b[0m\u001b[1;33m,\u001b[0m \u001b[0maxis\u001b[0m\u001b[1;33m=\u001b[0m\u001b[1;36m0\u001b[0m\u001b[1;33m,\u001b[0m \u001b[0mresult_type\u001b[0m\u001b[1;33m=\u001b[0m\u001b[1;34m'broadcast'\u001b[0m\u001b[1;33m)\u001b[0m\u001b[1;33m\u001b[0m\u001b[1;33m\u001b[0m\u001b[0m\n\u001b[0m",
      "\u001b[1;32m<ipython-input-35-621001e7e558>\u001b[0m in \u001b[0;36mdays_between\u001b[1;34m(d1, d2)\u001b[0m\n\u001b[0;32m      1\u001b[0m \u001b[1;32mdef\u001b[0m \u001b[0mdays_between\u001b[0m\u001b[1;33m(\u001b[0m\u001b[0md1\u001b[0m\u001b[1;33m,\u001b[0m \u001b[0md2\u001b[0m\u001b[1;33m)\u001b[0m\u001b[1;33m:\u001b[0m\u001b[1;33m\u001b[0m\u001b[1;33m\u001b[0m\u001b[0m\n\u001b[1;32m----> 2\u001b[1;33m     \u001b[0md1\u001b[0m \u001b[1;33m=\u001b[0m \u001b[0mdt\u001b[0m\u001b[1;33m.\u001b[0m\u001b[0mstrptime\u001b[0m\u001b[1;33m(\u001b[0m\u001b[0md1\u001b[0m\u001b[1;33m,\u001b[0m \u001b[1;34m\"%Y-%m-%d\"\u001b[0m\u001b[1;33m)\u001b[0m\u001b[1;33m\u001b[0m\u001b[1;33m\u001b[0m\u001b[0m\n\u001b[0m\u001b[0;32m      3\u001b[0m     \u001b[0md2\u001b[0m \u001b[1;33m=\u001b[0m \u001b[0mdt\u001b[0m\u001b[1;33m.\u001b[0m\u001b[0mstrptime\u001b[0m\u001b[1;33m(\u001b[0m\u001b[0md2\u001b[0m\u001b[1;33m,\u001b[0m \u001b[1;34m\"%Y-%m-%d\"\u001b[0m\u001b[1;33m)\u001b[0m\u001b[1;33m\u001b[0m\u001b[1;33m\u001b[0m\u001b[0m\n\u001b[0;32m      4\u001b[0m     \u001b[1;32mreturn\u001b[0m \u001b[0mabs\u001b[0m\u001b[1;33m(\u001b[0m\u001b[1;33m(\u001b[0m\u001b[0md2\u001b[0m \u001b[1;33m-\u001b[0m \u001b[0md1\u001b[0m\u001b[1;33m)\u001b[0m\u001b[1;33m.\u001b[0m\u001b[0mdays\u001b[0m\u001b[1;33m)\u001b[0m\u001b[1;33m\u001b[0m\u001b[1;33m\u001b[0m\u001b[0m\n",
      "\u001b[1;31mTypeError\u001b[0m: strptime() argument 1 must be str, not Series"
     ]
    }
   ],
   "source": [
    "ds1['Date_diff'] = ds1.apply(days_between(ds1['Дата закрытия жалобы'], ds1['Дата поступления жалобы']), axis=0, result_type='broadcast')"
   ]
  },
  {
   "cell_type": "code",
   "execution_count": null,
   "metadata": {},
   "outputs": [],
   "source": [
    "ds1['Date_diff'] = ds1.apply(days_between(ds1['Дата закрытия жалобы'], ds1['Дата поступления жалобы']))"
   ]
  },
  {
   "cell_type": "code",
   "execution_count": 65,
   "metadata": {
    "collapsed": true
   },
   "outputs": [
    {
     "ename": "ValueError",
     "evalue": "time data 'nan' does not match format '%d-%m-%Y'",
     "output_type": "error",
     "traceback": [
      "\u001b[1;31m---------------------------------------------------------------------------\u001b[0m",
      "\u001b[1;31mValueError\u001b[0m                                Traceback (most recent call last)",
      "\u001b[1;32m<ipython-input-65-eb96f23c1d28>\u001b[0m in \u001b[0;36m<module>\u001b[1;34m\u001b[0m\n\u001b[0;32m      1\u001b[0m \u001b[0mf\u001b[0m \u001b[1;33m=\u001b[0m \u001b[1;32mlambda\u001b[0m \u001b[0mx\u001b[0m\u001b[1;33m:\u001b[0m \u001b[0mdt\u001b[0m\u001b[1;33m.\u001b[0m\u001b[0mstrptime\u001b[0m\u001b[1;33m(\u001b[0m\u001b[0mx\u001b[0m\u001b[1;33m,\u001b[0m \u001b[1;34m'%d-%m-%Y'\u001b[0m\u001b[1;33m)\u001b[0m\u001b[1;33m\u001b[0m\u001b[1;33m\u001b[0m\u001b[0m\n\u001b[0;32m      2\u001b[0m \u001b[0mr\u001b[0m \u001b[1;33m=\u001b[0m \u001b[1;32mlambda\u001b[0m \u001b[0mx\u001b[0m\u001b[1;33m:\u001b[0m \u001b[0mstr\u001b[0m\u001b[1;33m(\u001b[0m\u001b[0mx\u001b[0m\u001b[1;33m)\u001b[0m\u001b[1;33m.\u001b[0m\u001b[0mreplace\u001b[0m\u001b[1;33m(\u001b[0m\u001b[1;34m'.'\u001b[0m\u001b[1;33m,\u001b[0m \u001b[1;34m'-'\u001b[0m\u001b[1;33m)\u001b[0m\u001b[1;33m\u001b[0m\u001b[1;33m\u001b[0m\u001b[0m\n\u001b[1;32m----> 3\u001b[1;33m \u001b[0mds1\u001b[0m\u001b[1;33m[\u001b[0m\u001b[1;34m'd1'\u001b[0m\u001b[1;33m]\u001b[0m \u001b[1;33m=\u001b[0m \u001b[1;33m(\u001b[0m\u001b[0mds1\u001b[0m\u001b[1;33m[\u001b[0m\u001b[1;34m'Дата поступления жалобы'\u001b[0m\u001b[1;33m]\u001b[0m\u001b[1;33m.\u001b[0m\u001b[0mapply\u001b[0m\u001b[1;33m(\u001b[0m\u001b[0mr\u001b[0m\u001b[1;33m)\u001b[0m\u001b[1;33m)\u001b[0m\u001b[1;33m.\u001b[0m\u001b[0mapply\u001b[0m\u001b[1;33m(\u001b[0m\u001b[0mf\u001b[0m\u001b[1;33m)\u001b[0m\u001b[1;33m\u001b[0m\u001b[1;33m\u001b[0m\u001b[0m\n\u001b[0m\u001b[0;32m      4\u001b[0m \u001b[0mds1\u001b[0m\u001b[1;33m[\u001b[0m\u001b[1;34m'd2'\u001b[0m\u001b[1;33m]\u001b[0m \u001b[1;33m=\u001b[0m \u001b[1;33m(\u001b[0m\u001b[0mds1\u001b[0m\u001b[1;33m[\u001b[0m\u001b[1;34m'Дата закрытия жалобы'\u001b[0m\u001b[1;33m]\u001b[0m\u001b[1;33m.\u001b[0m\u001b[0mapply\u001b[0m\u001b[1;33m(\u001b[0m\u001b[0mr\u001b[0m\u001b[1;33m)\u001b[0m\u001b[1;33m)\u001b[0m\u001b[1;33m.\u001b[0m\u001b[0mapply\u001b[0m\u001b[1;33m(\u001b[0m\u001b[0mf\u001b[0m\u001b[1;33m)\u001b[0m\u001b[1;33m\u001b[0m\u001b[1;33m\u001b[0m\u001b[0m\n",
      "\u001b[1;32m~\\Anaconda3\\lib\\site-packages\\pandas\\core\\series.py\u001b[0m in \u001b[0;36mapply\u001b[1;34m(self, func, convert_dtype, args, **kwds)\u001b[0m\n\u001b[0;32m   3846\u001b[0m             \u001b[1;32melse\u001b[0m\u001b[1;33m:\u001b[0m\u001b[1;33m\u001b[0m\u001b[1;33m\u001b[0m\u001b[0m\n\u001b[0;32m   3847\u001b[0m                 \u001b[0mvalues\u001b[0m \u001b[1;33m=\u001b[0m \u001b[0mself\u001b[0m\u001b[1;33m.\u001b[0m\u001b[0mastype\u001b[0m\u001b[1;33m(\u001b[0m\u001b[0mobject\u001b[0m\u001b[1;33m)\u001b[0m\u001b[1;33m.\u001b[0m\u001b[0mvalues\u001b[0m\u001b[1;33m\u001b[0m\u001b[1;33m\u001b[0m\u001b[0m\n\u001b[1;32m-> 3848\u001b[1;33m                 \u001b[0mmapped\u001b[0m \u001b[1;33m=\u001b[0m \u001b[0mlib\u001b[0m\u001b[1;33m.\u001b[0m\u001b[0mmap_infer\u001b[0m\u001b[1;33m(\u001b[0m\u001b[0mvalues\u001b[0m\u001b[1;33m,\u001b[0m \u001b[0mf\u001b[0m\u001b[1;33m,\u001b[0m \u001b[0mconvert\u001b[0m\u001b[1;33m=\u001b[0m\u001b[0mconvert_dtype\u001b[0m\u001b[1;33m)\u001b[0m\u001b[1;33m\u001b[0m\u001b[1;33m\u001b[0m\u001b[0m\n\u001b[0m\u001b[0;32m   3849\u001b[0m \u001b[1;33m\u001b[0m\u001b[0m\n\u001b[0;32m   3850\u001b[0m         \u001b[1;32mif\u001b[0m \u001b[0mlen\u001b[0m\u001b[1;33m(\u001b[0m\u001b[0mmapped\u001b[0m\u001b[1;33m)\u001b[0m \u001b[1;32mand\u001b[0m \u001b[0misinstance\u001b[0m\u001b[1;33m(\u001b[0m\u001b[0mmapped\u001b[0m\u001b[1;33m[\u001b[0m\u001b[1;36m0\u001b[0m\u001b[1;33m]\u001b[0m\u001b[1;33m,\u001b[0m \u001b[0mSeries\u001b[0m\u001b[1;33m)\u001b[0m\u001b[1;33m:\u001b[0m\u001b[1;33m\u001b[0m\u001b[1;33m\u001b[0m\u001b[0m\n",
      "\u001b[1;32mpandas\\_libs\\lib.pyx\u001b[0m in \u001b[0;36mpandas._libs.lib.map_infer\u001b[1;34m()\u001b[0m\n",
      "\u001b[1;32m<ipython-input-65-eb96f23c1d28>\u001b[0m in \u001b[0;36m<lambda>\u001b[1;34m(x)\u001b[0m\n\u001b[1;32m----> 1\u001b[1;33m \u001b[0mf\u001b[0m \u001b[1;33m=\u001b[0m \u001b[1;32mlambda\u001b[0m \u001b[0mx\u001b[0m\u001b[1;33m:\u001b[0m \u001b[0mdt\u001b[0m\u001b[1;33m.\u001b[0m\u001b[0mstrptime\u001b[0m\u001b[1;33m(\u001b[0m\u001b[0mx\u001b[0m\u001b[1;33m,\u001b[0m \u001b[1;34m'%d-%m-%Y'\u001b[0m\u001b[1;33m)\u001b[0m\u001b[1;33m\u001b[0m\u001b[1;33m\u001b[0m\u001b[0m\n\u001b[0m\u001b[0;32m      2\u001b[0m \u001b[0mr\u001b[0m \u001b[1;33m=\u001b[0m \u001b[1;32mlambda\u001b[0m \u001b[0mx\u001b[0m\u001b[1;33m:\u001b[0m \u001b[0mstr\u001b[0m\u001b[1;33m(\u001b[0m\u001b[0mx\u001b[0m\u001b[1;33m)\u001b[0m\u001b[1;33m.\u001b[0m\u001b[0mreplace\u001b[0m\u001b[1;33m(\u001b[0m\u001b[1;34m'.'\u001b[0m\u001b[1;33m,\u001b[0m \u001b[1;34m'-'\u001b[0m\u001b[1;33m)\u001b[0m\u001b[1;33m\u001b[0m\u001b[1;33m\u001b[0m\u001b[0m\n\u001b[0;32m      3\u001b[0m \u001b[0mds1\u001b[0m\u001b[1;33m[\u001b[0m\u001b[1;34m'd1'\u001b[0m\u001b[1;33m]\u001b[0m \u001b[1;33m=\u001b[0m \u001b[1;33m(\u001b[0m\u001b[0mds1\u001b[0m\u001b[1;33m[\u001b[0m\u001b[1;34m'Дата поступления жалобы'\u001b[0m\u001b[1;33m]\u001b[0m\u001b[1;33m.\u001b[0m\u001b[0mapply\u001b[0m\u001b[1;33m(\u001b[0m\u001b[0mr\u001b[0m\u001b[1;33m)\u001b[0m\u001b[1;33m)\u001b[0m\u001b[1;33m.\u001b[0m\u001b[0mapply\u001b[0m\u001b[1;33m(\u001b[0m\u001b[0mf\u001b[0m\u001b[1;33m)\u001b[0m\u001b[1;33m\u001b[0m\u001b[1;33m\u001b[0m\u001b[0m\n\u001b[0;32m      4\u001b[0m \u001b[0mds1\u001b[0m\u001b[1;33m[\u001b[0m\u001b[1;34m'd2'\u001b[0m\u001b[1;33m]\u001b[0m \u001b[1;33m=\u001b[0m \u001b[1;33m(\u001b[0m\u001b[0mds1\u001b[0m\u001b[1;33m[\u001b[0m\u001b[1;34m'Дата закрытия жалобы'\u001b[0m\u001b[1;33m]\u001b[0m\u001b[1;33m.\u001b[0m\u001b[0mapply\u001b[0m\u001b[1;33m(\u001b[0m\u001b[0mr\u001b[0m\u001b[1;33m)\u001b[0m\u001b[1;33m)\u001b[0m\u001b[1;33m.\u001b[0m\u001b[0mapply\u001b[0m\u001b[1;33m(\u001b[0m\u001b[0mf\u001b[0m\u001b[1;33m)\u001b[0m\u001b[1;33m\u001b[0m\u001b[1;33m\u001b[0m\u001b[0m\n",
      "\u001b[1;32m~\\Anaconda3\\lib\\_strptime.py\u001b[0m in \u001b[0;36m_strptime_datetime\u001b[1;34m(cls, data_string, format)\u001b[0m\n\u001b[0;32m    563\u001b[0m     \"\"\"Return a class cls instance based on the input string and the\n\u001b[0;32m    564\u001b[0m     format string.\"\"\"\n\u001b[1;32m--> 565\u001b[1;33m     \u001b[0mtt\u001b[0m\u001b[1;33m,\u001b[0m \u001b[0mfraction\u001b[0m \u001b[1;33m=\u001b[0m \u001b[0m_strptime\u001b[0m\u001b[1;33m(\u001b[0m\u001b[0mdata_string\u001b[0m\u001b[1;33m,\u001b[0m \u001b[0mformat\u001b[0m\u001b[1;33m)\u001b[0m\u001b[1;33m\u001b[0m\u001b[1;33m\u001b[0m\u001b[0m\n\u001b[0m\u001b[0;32m    566\u001b[0m     \u001b[0mtzname\u001b[0m\u001b[1;33m,\u001b[0m \u001b[0mgmtoff\u001b[0m \u001b[1;33m=\u001b[0m \u001b[0mtt\u001b[0m\u001b[1;33m[\u001b[0m\u001b[1;33m-\u001b[0m\u001b[1;36m2\u001b[0m\u001b[1;33m:\u001b[0m\u001b[1;33m]\u001b[0m\u001b[1;33m\u001b[0m\u001b[1;33m\u001b[0m\u001b[0m\n\u001b[0;32m    567\u001b[0m     \u001b[0margs\u001b[0m \u001b[1;33m=\u001b[0m \u001b[0mtt\u001b[0m\u001b[1;33m[\u001b[0m\u001b[1;33m:\u001b[0m\u001b[1;36m6\u001b[0m\u001b[1;33m]\u001b[0m \u001b[1;33m+\u001b[0m \u001b[1;33m(\u001b[0m\u001b[0mfraction\u001b[0m\u001b[1;33m,\u001b[0m\u001b[1;33m)\u001b[0m\u001b[1;33m\u001b[0m\u001b[1;33m\u001b[0m\u001b[0m\n",
      "\u001b[1;32m~\\Anaconda3\\lib\\_strptime.py\u001b[0m in \u001b[0;36m_strptime\u001b[1;34m(data_string, format)\u001b[0m\n\u001b[0;32m    360\u001b[0m     \u001b[1;32mif\u001b[0m \u001b[1;32mnot\u001b[0m \u001b[0mfound\u001b[0m\u001b[1;33m:\u001b[0m\u001b[1;33m\u001b[0m\u001b[1;33m\u001b[0m\u001b[0m\n\u001b[0;32m    361\u001b[0m         raise ValueError(\"time data %r does not match format %r\" %\n\u001b[1;32m--> 362\u001b[1;33m                          (data_string, format))\n\u001b[0m\u001b[0;32m    363\u001b[0m     \u001b[1;32mif\u001b[0m \u001b[0mlen\u001b[0m\u001b[1;33m(\u001b[0m\u001b[0mdata_string\u001b[0m\u001b[1;33m)\u001b[0m \u001b[1;33m!=\u001b[0m \u001b[0mfound\u001b[0m\u001b[1;33m.\u001b[0m\u001b[0mend\u001b[0m\u001b[1;33m(\u001b[0m\u001b[1;33m)\u001b[0m\u001b[1;33m:\u001b[0m\u001b[1;33m\u001b[0m\u001b[1;33m\u001b[0m\u001b[0m\n\u001b[0;32m    364\u001b[0m         raise ValueError(\"unconverted data remains: %s\" %\n",
      "\u001b[1;31mValueError\u001b[0m: time data 'nan' does not match format '%d-%m-%Y'"
     ]
    }
   ],
   "source": [
    "f = lambda x: dt.strptime(x, '%d-%m-%Y')\n",
    "r = lambda x: str(x).replace('.', '-')\n",
    "ds1['d1'] = (ds1['Дата поступления жалобы'].apply(r)).apply(f)\n",
    "ds1['d2'] = (ds1['Дата закрытия жалобы'].apply(r)).apply(f)"
   ]
  },
  {
   "cell_type": "code",
   "execution_count": 60,
   "metadata": {},
   "outputs": [
    {
     "data": {
      "text/plain": [
       "'09-03-2019'"
      ]
     },
     "execution_count": 60,
     "metadata": {},
     "output_type": "execute_result"
    }
   ],
   "source": [
    "r(ds1['Дата закрытия жалобы'][2])"
   ]
  },
  {
   "cell_type": "code",
   "execution_count": 78,
   "metadata": {},
   "outputs": [
    {
     "data": {
      "text/html": [
       "<div>\n",
       "<style scoped>\n",
       "    .dataframe tbody tr th:only-of-type {\n",
       "        vertical-align: middle;\n",
       "    }\n",
       "\n",
       "    .dataframe tbody tr th {\n",
       "        vertical-align: top;\n",
       "    }\n",
       "\n",
       "    .dataframe thead th {\n",
       "        text-align: right;\n",
       "    }\n",
       "</style>\n",
       "<table border=\"1\" class=\"dataframe\">\n",
       "  <thead>\n",
       "    <tr style=\"text-align: right;\">\n",
       "      <th></th>\n",
       "      <th>ID клиента</th>\n",
       "      <th>Пол</th>\n",
       "      <th>Возраст</th>\n",
       "      <th>Город</th>\n",
       "      <th>Дата поступления жалобы</th>\n",
       "      <th>Дата закрытия жалобы</th>\n",
       "      <th>Тематика жалобы</th>\n",
       "      <th>Канал поступления жалобы</th>\n",
       "      <th>Продукт</th>\n",
       "      <th>Запрашиваемая сумма возмещения</th>\n",
       "      <th>Сумма выплаты клиенту</th>\n",
       "      <th>Тип подарка</th>\n",
       "      <th>CSI</th>\n",
       "      <th>Комментарий к CSI</th>\n",
       "    </tr>\n",
       "  </thead>\n",
       "  <tbody>\n",
       "    <tr>\n",
       "      <th>0</th>\n",
       "      <td>1.0</td>\n",
       "      <td>F</td>\n",
       "      <td>21.0</td>\n",
       "      <td>Москва</td>\n",
       "      <td>02.03.2019</td>\n",
       "      <td>03.03.2019</td>\n",
       "      <td>Доставка</td>\n",
       "      <td>Отделение</td>\n",
       "      <td>Перевод</td>\n",
       "      <td>4313.0</td>\n",
       "      <td>4313.0</td>\n",
       "      <td>Промокод</td>\n",
       "      <td>8.0</td>\n",
       "      <td>NaN</td>\n",
       "    </tr>\n",
       "    <tr>\n",
       "      <th>1</th>\n",
       "      <td>2.0</td>\n",
       "      <td>M</td>\n",
       "      <td>36.0</td>\n",
       "      <td>Санкт-Петербург</td>\n",
       "      <td>31.03.2019</td>\n",
       "      <td>01.04.2019</td>\n",
       "      <td>Доставка</td>\n",
       "      <td>Колл-центр</td>\n",
       "      <td>Кредитная карта</td>\n",
       "      <td>1229.0</td>\n",
       "      <td>1229.0</td>\n",
       "      <td>Бонусы</td>\n",
       "      <td>10.0</td>\n",
       "      <td>NaN</td>\n",
       "    </tr>\n",
       "    <tr>\n",
       "      <th>2</th>\n",
       "      <td>3.0</td>\n",
       "      <td>M</td>\n",
       "      <td>36.0</td>\n",
       "      <td>Нижний Нивгород</td>\n",
       "      <td>08.03.2019</td>\n",
       "      <td>09.03.2019</td>\n",
       "      <td>Доставка</td>\n",
       "      <td>Колл-центр</td>\n",
       "      <td>Кредитная карта</td>\n",
       "      <td>332.0</td>\n",
       "      <td>332.0</td>\n",
       "      <td>NaN</td>\n",
       "      <td>7.0</td>\n",
       "      <td>NaN</td>\n",
       "    </tr>\n",
       "    <tr>\n",
       "      <th>3</th>\n",
       "      <td>4.0</td>\n",
       "      <td>F</td>\n",
       "      <td>36.0</td>\n",
       "      <td>Уфа</td>\n",
       "      <td>22.03.2019</td>\n",
       "      <td>23.03.2019</td>\n",
       "      <td>Доставка</td>\n",
       "      <td>Колл-центр</td>\n",
       "      <td>Кредитная карта</td>\n",
       "      <td>2127.0</td>\n",
       "      <td>2127.0</td>\n",
       "      <td>NaN</td>\n",
       "      <td>2.0</td>\n",
       "      <td>хамство в отделенит</td>\n",
       "    </tr>\n",
       "    <tr>\n",
       "      <th>4</th>\n",
       "      <td>5.0</td>\n",
       "      <td>F</td>\n",
       "      <td>36.0</td>\n",
       "      <td>Саров</td>\n",
       "      <td>21.03.2019</td>\n",
       "      <td>22.03.2019</td>\n",
       "      <td>Доставка</td>\n",
       "      <td>Колл-центр</td>\n",
       "      <td>Кредитная карта</td>\n",
       "      <td>1165.0</td>\n",
       "      <td>1165.0</td>\n",
       "      <td>NaN</td>\n",
       "      <td>7.0</td>\n",
       "      <td>NaN</td>\n",
       "    </tr>\n",
       "    <tr>\n",
       "      <th>...</th>\n",
       "      <td>...</td>\n",
       "      <td>...</td>\n",
       "      <td>...</td>\n",
       "      <td>...</td>\n",
       "      <td>...</td>\n",
       "      <td>...</td>\n",
       "      <td>...</td>\n",
       "      <td>...</td>\n",
       "      <td>...</td>\n",
       "      <td>...</td>\n",
       "      <td>...</td>\n",
       "      <td>...</td>\n",
       "      <td>...</td>\n",
       "      <td>...</td>\n",
       "    </tr>\n",
       "    <tr>\n",
       "      <th>9035</th>\n",
       "      <td>9036.0</td>\n",
       "      <td>M</td>\n",
       "      <td>51.0</td>\n",
       "      <td>Санкт-Петербург</td>\n",
       "      <td>21.03.2019</td>\n",
       "      <td>22.03.2019</td>\n",
       "      <td>Доставка</td>\n",
       "      <td>Отделение</td>\n",
       "      <td>Перевод</td>\n",
       "      <td>3637.0</td>\n",
       "      <td>3528.0</td>\n",
       "      <td>Физический</td>\n",
       "      <td>5.0</td>\n",
       "      <td>NaN</td>\n",
       "    </tr>\n",
       "    <tr>\n",
       "      <th>9036</th>\n",
       "      <td>9037.0</td>\n",
       "      <td>M</td>\n",
       "      <td>50.0</td>\n",
       "      <td>Нижний Нивгород</td>\n",
       "      <td>12.03.2019</td>\n",
       "      <td>13.03.2019</td>\n",
       "      <td>Комиссия</td>\n",
       "      <td>Колл-центр</td>\n",
       "      <td>Кредитная карта</td>\n",
       "      <td>2696.0</td>\n",
       "      <td>2616.0</td>\n",
       "      <td>NaN</td>\n",
       "      <td>4.0</td>\n",
       "      <td>NaN</td>\n",
       "    </tr>\n",
       "    <tr>\n",
       "      <th>9037</th>\n",
       "      <td>9038.0</td>\n",
       "      <td>M</td>\n",
       "      <td>32.0</td>\n",
       "      <td>Подольск</td>\n",
       "      <td>30.03.2019</td>\n",
       "      <td>31.03.2019</td>\n",
       "      <td>Комиссия</td>\n",
       "      <td>Колл-центр</td>\n",
       "      <td>Кредитная карта</td>\n",
       "      <td>911.0</td>\n",
       "      <td>857.0</td>\n",
       "      <td>Промокод</td>\n",
       "      <td>1.0</td>\n",
       "      <td>NaN</td>\n",
       "    </tr>\n",
       "    <tr>\n",
       "      <th>9038</th>\n",
       "      <td>9039.0</td>\n",
       "      <td>M</td>\n",
       "      <td>39.0</td>\n",
       "      <td>Москва</td>\n",
       "      <td>15.03.2019</td>\n",
       "      <td>16.03.2019</td>\n",
       "      <td>Доставка</td>\n",
       "      <td>Отделение</td>\n",
       "      <td>Перевод</td>\n",
       "      <td>2459.0</td>\n",
       "      <td>2214.0</td>\n",
       "      <td>NaN</td>\n",
       "      <td>5.0</td>\n",
       "      <td>NaN</td>\n",
       "    </tr>\n",
       "    <tr>\n",
       "      <th>9039</th>\n",
       "      <td>9040.0</td>\n",
       "      <td>F</td>\n",
       "      <td>40.0</td>\n",
       "      <td>Москва</td>\n",
       "      <td>15.03.2019</td>\n",
       "      <td>16.03.2019</td>\n",
       "      <td>Комиссия</td>\n",
       "      <td>Колл-центр</td>\n",
       "      <td>Кредитная карта</td>\n",
       "      <td>2083.0</td>\n",
       "      <td>2000.0</td>\n",
       "      <td>NaN</td>\n",
       "      <td>8.0</td>\n",
       "      <td>NaN</td>\n",
       "    </tr>\n",
       "  </tbody>\n",
       "</table>\n",
       "<p>9040 rows × 14 columns</p>\n",
       "</div>"
      ],
      "text/plain": [
       "      ID клиента Пол  Возраст            Город Дата поступления жалобы  \\\n",
       "0            1.0   F     21.0           Москва              02.03.2019   \n",
       "1            2.0   M     36.0  Санкт-Петербург              31.03.2019   \n",
       "2            3.0   M     36.0  Нижний Нивгород              08.03.2019   \n",
       "3            4.0   F     36.0              Уфа              22.03.2019   \n",
       "4            5.0   F     36.0            Саров              21.03.2019   \n",
       "...          ...  ..      ...              ...                     ...   \n",
       "9035      9036.0   M     51.0  Санкт-Петербург              21.03.2019   \n",
       "9036      9037.0   M     50.0  Нижний Нивгород              12.03.2019   \n",
       "9037      9038.0   M     32.0         Подольск              30.03.2019   \n",
       "9038      9039.0   M     39.0           Москва              15.03.2019   \n",
       "9039      9040.0   F     40.0           Москва              15.03.2019   \n",
       "\n",
       "     Дата закрытия жалобы Тематика жалобы Канал поступления жалобы  \\\n",
       "0              03.03.2019        Доставка                Отделение   \n",
       "1              01.04.2019        Доставка               Колл-центр   \n",
       "2              09.03.2019        Доставка               Колл-центр   \n",
       "3              23.03.2019        Доставка               Колл-центр   \n",
       "4              22.03.2019        Доставка               Колл-центр   \n",
       "...                   ...             ...                      ...   \n",
       "9035           22.03.2019        Доставка                Отделение   \n",
       "9036           13.03.2019        Комиссия               Колл-центр   \n",
       "9037           31.03.2019        Комиссия               Колл-центр   \n",
       "9038           16.03.2019        Доставка                Отделение   \n",
       "9039           16.03.2019        Комиссия               Колл-центр   \n",
       "\n",
       "              Продукт  Запрашиваемая сумма возмещения  Сумма выплаты клиенту  \\\n",
       "0             Перевод                          4313.0                 4313.0   \n",
       "1     Кредитная карта                          1229.0                 1229.0   \n",
       "2     Кредитная карта                           332.0                  332.0   \n",
       "3     Кредитная карта                          2127.0                 2127.0   \n",
       "4     Кредитная карта                          1165.0                 1165.0   \n",
       "...               ...                             ...                    ...   \n",
       "9035          Перевод                          3637.0                 3528.0   \n",
       "9036  Кредитная карта                          2696.0                 2616.0   \n",
       "9037  Кредитная карта                           911.0                  857.0   \n",
       "9038          Перевод                          2459.0                 2214.0   \n",
       "9039  Кредитная карта                          2083.0                 2000.0   \n",
       "\n",
       "     Тип подарка   CSI    Комментарий к CSI  \n",
       "0       Промокод   8.0                  NaN  \n",
       "1         Бонусы  10.0                  NaN  \n",
       "2            NaN   7.0                  NaN  \n",
       "3            NaN   2.0  хамство в отделенит  \n",
       "4            NaN   7.0                  NaN  \n",
       "...          ...   ...                  ...  \n",
       "9035  Физический   5.0                  NaN  \n",
       "9036         NaN   4.0                  NaN  \n",
       "9037    Промокод   1.0                  NaN  \n",
       "9038         NaN   5.0                  NaN  \n",
       "9039         NaN   8.0                  NaN  \n",
       "\n",
       "[9040 rows x 14 columns]"
      ]
     },
     "execution_count": 78,
     "metadata": {},
     "output_type": "execute_result"
    }
   ],
   "source": [
    "ds1"
   ]
  },
  {
   "cell_type": "code",
   "execution_count": 87,
   "metadata": {},
   "outputs": [],
   "source": [
    "OneHotEncoder?"
   ]
  },
  {
   "cell_type": "code",
   "execution_count": 98,
   "metadata": {},
   "outputs": [],
   "source": [
    "ohe = OneHotEncoder(handle_unknown='ignore')"
   ]
  },
  {
   "cell_type": "code",
   "execution_count": 89,
   "metadata": {},
   "outputs": [],
   "source": [
    "X = [['Male', 1], ['Female', 3], ['Female', 2]]"
   ]
  },
  {
   "cell_type": "code",
   "execution_count": 90,
   "metadata": {},
   "outputs": [
    {
     "data": {
      "text/plain": [
       "[['Male', 1], ['Female', 3], ['Female', 2]]"
      ]
     },
     "execution_count": 90,
     "metadata": {},
     "output_type": "execute_result"
    }
   ],
   "source": [
    "X"
   ]
  },
  {
   "cell_type": "code",
   "execution_count": 91,
   "metadata": {},
   "outputs": [
    {
     "data": {
      "text/plain": [
       "OneHotEncoder(handle_unknown='ignore')"
      ]
     },
     "execution_count": 91,
     "metadata": {},
     "output_type": "execute_result"
    }
   ],
   "source": [
    "ohe.fit(X)"
   ]
  },
  {
   "cell_type": "code",
   "execution_count": 93,
   "metadata": {},
   "outputs": [
    {
     "data": {
      "text/plain": [
       "[array(['Female', 'Male'], dtype=object), array([1, 2, 3], dtype=object)]"
      ]
     },
     "execution_count": 93,
     "metadata": {},
     "output_type": "execute_result"
    }
   ],
   "source": [
    "ohe.categories_"
   ]
  },
  {
   "cell_type": "code",
   "execution_count": 232,
   "metadata": {},
   "outputs": [],
   "source": [
    "column_transformer = ColumnTransformer([\n",
    "    ('ohe', OneHotEncoder(handle_unknown=\"ignore\"), categorical)])"
   ]
  },
  {
   "cell_type": "code",
   "execution_count": 100,
   "metadata": {},
   "outputs": [
    {
     "data": {
      "text/plain": [
       "ColumnTransformer(transformers=[('ohe', OneHotEncoder(handle_unknown='ignore'),\n",
       "                                 ['Пол', 'Город', 'Дата поступления жалобы',\n",
       "                                  'Дата закрытия жалобы', 'Тематика жалобы',\n",
       "                                  'Канал поступления жалобы', 'Продукт',\n",
       "                                  'Тип подарка', 'Комментарий к CSI'])])"
      ]
     },
     "execution_count": 100,
     "metadata": {},
     "output_type": "execute_result"
    }
   ],
   "source": [
    "column_transformer"
   ]
  },
  {
   "cell_type": "code",
   "execution_count": 230,
   "metadata": {},
   "outputs": [],
   "source": [
    "pd.factorize?"
   ]
  },
  {
   "cell_type": "code",
   "execution_count": 231,
   "metadata": {},
   "outputs": [],
   "source": [
    "OneHotEncoder?"
   ]
  },
  {
   "cell_type": "code",
   "execution_count": 238,
   "metadata": {
    "scrolled": true
   },
   "outputs": [
    {
     "data": {
      "text/html": [
       "<div>\n",
       "<style scoped>\n",
       "    .dataframe tbody tr th:only-of-type {\n",
       "        vertical-align: middle;\n",
       "    }\n",
       "\n",
       "    .dataframe tbody tr th {\n",
       "        vertical-align: top;\n",
       "    }\n",
       "\n",
       "    .dataframe thead th {\n",
       "        text-align: right;\n",
       "    }\n",
       "</style>\n",
       "<table border=\"1\" class=\"dataframe\">\n",
       "  <thead>\n",
       "    <tr style=\"text-align: right;\">\n",
       "      <th></th>\n",
       "      <th>Пол</th>\n",
       "      <th>Возраст</th>\n",
       "      <th>Город</th>\n",
       "      <th>Тематика жалобы</th>\n",
       "      <th>Канал поступления жалобы</th>\n",
       "      <th>Продукт</th>\n",
       "      <th>Запрашиваемая сумма возмещения</th>\n",
       "      <th>Тип подарка</th>\n",
       "      <th>Период</th>\n",
       "      <th>Штраф</th>\n",
       "    </tr>\n",
       "  </thead>\n",
       "  <tbody>\n",
       "    <tr>\n",
       "      <th>323</th>\n",
       "      <td>M</td>\n",
       "      <td>36.0</td>\n",
       "      <td>Уфа</td>\n",
       "      <td>Доставка</td>\n",
       "      <td>Колл-центр</td>\n",
       "      <td>Кредитная карта</td>\n",
       "      <td>2103.0</td>\n",
       "      <td>Отсутствует</td>\n",
       "      <td>1.0</td>\n",
       "      <td>105.0</td>\n",
       "    </tr>\n",
       "    <tr>\n",
       "      <th>2034</th>\n",
       "      <td>F</td>\n",
       "      <td>29.0</td>\n",
       "      <td>Москва</td>\n",
       "      <td>Комиссия</td>\n",
       "      <td>Отделение</td>\n",
       "      <td>Перевод</td>\n",
       "      <td>4895.0</td>\n",
       "      <td>Отсутствует</td>\n",
       "      <td>1.0</td>\n",
       "      <td>489.0</td>\n",
       "    </tr>\n",
       "    <tr>\n",
       "      <th>996</th>\n",
       "      <td>M</td>\n",
       "      <td>51.0</td>\n",
       "      <td>Новый Уренгой</td>\n",
       "      <td>Доставка</td>\n",
       "      <td>Отделение</td>\n",
       "      <td>Перевод</td>\n",
       "      <td>1386.0</td>\n",
       "      <td>Отсутствует</td>\n",
       "      <td>4.0</td>\n",
       "      <td>27.0</td>\n",
       "    </tr>\n",
       "    <tr>\n",
       "      <th>8930</th>\n",
       "      <td>F</td>\n",
       "      <td>43.0</td>\n",
       "      <td>Уфа</td>\n",
       "      <td>Комиссия</td>\n",
       "      <td>Отделение</td>\n",
       "      <td>Перевод</td>\n",
       "      <td>418.0</td>\n",
       "      <td>Бонусы</td>\n",
       "      <td>1.0</td>\n",
       "      <td>8.0</td>\n",
       "    </tr>\n",
       "    <tr>\n",
       "      <th>7623</th>\n",
       "      <td>F</td>\n",
       "      <td>51.0</td>\n",
       "      <td>Нижний Нивгород</td>\n",
       "      <td>Доставка</td>\n",
       "      <td>Отделение</td>\n",
       "      <td>Перевод</td>\n",
       "      <td>614.0</td>\n",
       "      <td>Промокод</td>\n",
       "      <td>1.0</td>\n",
       "      <td>24.0</td>\n",
       "    </tr>\n",
       "    <tr>\n",
       "      <th>...</th>\n",
       "      <td>...</td>\n",
       "      <td>...</td>\n",
       "      <td>...</td>\n",
       "      <td>...</td>\n",
       "      <td>...</td>\n",
       "      <td>...</td>\n",
       "      <td>...</td>\n",
       "      <td>...</td>\n",
       "      <td>...</td>\n",
       "      <td>...</td>\n",
       "    </tr>\n",
       "    <tr>\n",
       "      <th>5737</th>\n",
       "      <td>F</td>\n",
       "      <td>58.0</td>\n",
       "      <td>Набережные челны</td>\n",
       "      <td>Комиссия</td>\n",
       "      <td>Колл-центр</td>\n",
       "      <td>Кредитная карта</td>\n",
       "      <td>2160.0</td>\n",
       "      <td>Отсутствует</td>\n",
       "      <td>1.0</td>\n",
       "      <td>194.0</td>\n",
       "    </tr>\n",
       "    <tr>\n",
       "      <th>5194</th>\n",
       "      <td>M</td>\n",
       "      <td>52.0</td>\n",
       "      <td>Подольск</td>\n",
       "      <td>Комиссия</td>\n",
       "      <td>Колл-центр</td>\n",
       "      <td>Кредитная карта</td>\n",
       "      <td>616.0</td>\n",
       "      <td>Отсутствует</td>\n",
       "      <td>1.0</td>\n",
       "      <td>24.0</td>\n",
       "    </tr>\n",
       "    <tr>\n",
       "      <th>5393</th>\n",
       "      <td>M</td>\n",
       "      <td>54.0</td>\n",
       "      <td>Нижний Нивгород</td>\n",
       "      <td>Доставка</td>\n",
       "      <td>Колл-центр</td>\n",
       "      <td>Кредитная карта</td>\n",
       "      <td>3414.0</td>\n",
       "      <td>Отсутствует</td>\n",
       "      <td>1.0</td>\n",
       "      <td>238.0</td>\n",
       "    </tr>\n",
       "    <tr>\n",
       "      <th>862</th>\n",
       "      <td>F</td>\n",
       "      <td>40.0</td>\n",
       "      <td>Таганрог</td>\n",
       "      <td>Комиссия</td>\n",
       "      <td>Колл-центр</td>\n",
       "      <td>Кредитная карта</td>\n",
       "      <td>1648.0</td>\n",
       "      <td>Отсутствует</td>\n",
       "      <td>5.0</td>\n",
       "      <td>65.0</td>\n",
       "    </tr>\n",
       "    <tr>\n",
       "      <th>7273</th>\n",
       "      <td>F</td>\n",
       "      <td>39.0</td>\n",
       "      <td>Уфа</td>\n",
       "      <td>Доставка</td>\n",
       "      <td>Отделение</td>\n",
       "      <td>Перевод</td>\n",
       "      <td>2556.0</td>\n",
       "      <td>Промокод</td>\n",
       "      <td>1.0</td>\n",
       "      <td>178.0</td>\n",
       "    </tr>\n",
       "  </tbody>\n",
       "</table>\n",
       "<p>6325 rows × 10 columns</p>\n",
       "</div>"
      ],
      "text/plain": [
       "     Пол  Возраст             Город Тематика жалобы Канал поступления жалобы  \\\n",
       "323    M     36.0               Уфа        Доставка               Колл-центр   \n",
       "2034   F     29.0            Москва        Комиссия                Отделение   \n",
       "996    M     51.0     Новый Уренгой        Доставка                Отделение   \n",
       "8930   F     43.0               Уфа        Комиссия                Отделение   \n",
       "7623   F     51.0   Нижний Нивгород        Доставка                Отделение   \n",
       "...   ..      ...               ...             ...                      ...   \n",
       "5737   F     58.0  Набережные челны        Комиссия               Колл-центр   \n",
       "5194   M     52.0          Подольск        Комиссия               Колл-центр   \n",
       "5393   M     54.0   Нижний Нивгород        Доставка               Колл-центр   \n",
       "862    F     40.0          Таганрог        Комиссия               Колл-центр   \n",
       "7273   F     39.0               Уфа        Доставка                Отделение   \n",
       "\n",
       "              Продукт  Запрашиваемая сумма возмещения  Тип подарка  Период  \\\n",
       "323   Кредитная карта                          2103.0  Отсутствует     1.0   \n",
       "2034          Перевод                          4895.0  Отсутствует     1.0   \n",
       "996           Перевод                          1386.0  Отсутствует     4.0   \n",
       "8930          Перевод                           418.0       Бонусы     1.0   \n",
       "7623          Перевод                           614.0     Промокод     1.0   \n",
       "...               ...                             ...          ...     ...   \n",
       "5737  Кредитная карта                          2160.0  Отсутствует     1.0   \n",
       "5194  Кредитная карта                           616.0  Отсутствует     1.0   \n",
       "5393  Кредитная карта                          3414.0  Отсутствует     1.0   \n",
       "862   Кредитная карта                          1648.0  Отсутствует     5.0   \n",
       "7273          Перевод                          2556.0     Промокод     1.0   \n",
       "\n",
       "      Штраф  \n",
       "323   105.0  \n",
       "2034  489.0  \n",
       "996    27.0  \n",
       "8930    8.0  \n",
       "7623   24.0  \n",
       "...     ...  \n",
       "5737  194.0  \n",
       "5194   24.0  \n",
       "5393  238.0  \n",
       "862    65.0  \n",
       "7273  178.0  \n",
       "\n",
       "[6325 rows x 10 columns]"
      ]
     },
     "execution_count": 238,
     "metadata": {},
     "output_type": "execute_result"
    }
   ],
   "source": [
    "X_train"
   ]
  },
  {
   "cell_type": "code",
   "execution_count": 255,
   "metadata": {
    "scrolled": true
   },
   "outputs": [],
   "source": [
    "ohe1 = OneHotEncoder(handle_unknown='ignore')\n",
    "lal = ohe.fit(X_train[categorical])"
   ]
  },
  {
   "cell_type": "code",
   "execution_count": 257,
   "metadata": {},
   "outputs": [
    {
     "data": {
      "text/plain": [
       "array(['x0_F', 'x0_M', 'x1_Москва', 'x1_Набережные челны',\n",
       "       'x1_Нижний Нивгород', 'x1_Новый Уренгой', 'x1_Подольск',\n",
       "       'x1_Санкт-Петербург', 'x1_Саров', 'x1_Таганрог', 'x1_Уфа',\n",
       "       'x2_Доставка', 'x2_Комиссия', 'x3_Колл-центр', 'x3_Отделение',\n",
       "       'x4_Кредитная карта', 'x4_Перевод', 'x5_Бонусы', 'x5_Отсутствует',\n",
       "       'x5_Промокод', 'x5_Физический'], dtype=object)"
      ]
     },
     "execution_count": 257,
     "metadata": {},
     "output_type": "execute_result"
    }
   ],
   "source": [
    "lal.get_feature_names()"
   ]
  },
  {
   "cell_type": "code",
   "execution_count": 259,
   "metadata": {
    "scrolled": true
   },
   "outputs": [
    {
     "data": {
      "text/plain": [
       "[array(['F', 'M'], dtype=object),\n",
       " array(['Москва', 'Набережные челны', 'Нижний Нивгород', 'Новый Уренгой',\n",
       "        'Подольск', 'Санкт-Петербург', 'Саров', 'Таганрог', 'Уфа'],\n",
       "       dtype=object),\n",
       " array(['Доставка', 'Комиссия'], dtype=object),\n",
       " array(['Колл-центр', 'Отделение'], dtype=object),\n",
       " array(['Кредитная карта', 'Перевод'], dtype=object),\n",
       " array(['Бонусы', 'Отсутствует', 'Промокод', 'Физический'], dtype=object)]"
      ]
     },
     "execution_count": 259,
     "metadata": {},
     "output_type": "execute_result"
    }
   ],
   "source": [
    "lal.categories_"
   ]
  },
  {
   "cell_type": "code",
   "execution_count": 269,
   "metadata": {},
   "outputs": [],
   "source": [
    "droplist = []\n",
    "for i in lal.categories_:\n",
    "    droplist.append(i[0])"
   ]
  },
  {
   "cell_type": "code",
   "execution_count": 270,
   "metadata": {},
   "outputs": [
    {
     "data": {
      "text/plain": [
       "['F', 'Москва', 'Доставка', 'Колл-центр', 'Кредитная карта', 'Бонусы']"
      ]
     },
     "execution_count": 270,
     "metadata": {},
     "output_type": "execute_result"
    }
   ],
   "source": [
    "droplist"
   ]
  },
  {
   "cell_type": "code",
   "execution_count": null,
   "metadata": {},
   "outputs": [],
   "source": []
  },
  {
   "cell_type": "code",
   "execution_count": 262,
   "metadata": {},
   "outputs": [],
   "source": [
    "oh = lal.transform(X_train[categorical]).toarray()"
   ]
  },
  {
   "cell_type": "code",
   "execution_count": 263,
   "metadata": {},
   "outputs": [],
   "source": [
    "X_train_tr = pd.DataFrame(oh, columns=lal.get_feature_names())"
   ]
  },
  {
   "cell_type": "code",
   "execution_count": 278,
   "metadata": {
    "scrolled": false
   },
   "outputs": [],
   "source": [
    "X_train_tr.index = X_train.index"
   ]
  },
  {
   "cell_type": "code",
   "execution_count": 272,
   "metadata": {},
   "outputs": [],
   "source": [
    "#избавимся от линейной зависимости, удалим по признаку\n",
    "X_train_tr.drop(columns=['x0_F', 'x1_Москва', 'x2_Доставка', 'x3_Колл-центр', 'x4_Кредитная карта', 'x5_Бонусы'], inplace=True)"
   ]
  },
  {
   "cell_type": "code",
   "execution_count": 281,
   "metadata": {},
   "outputs": [],
   "source": [
    "X_train_tr[numeric] = X_train[numeric]"
   ]
  },
  {
   "cell_type": "code",
   "execution_count": 282,
   "metadata": {},
   "outputs": [
    {
     "data": {
      "text/html": [
       "<div>\n",
       "<style scoped>\n",
       "    .dataframe tbody tr th:only-of-type {\n",
       "        vertical-align: middle;\n",
       "    }\n",
       "\n",
       "    .dataframe tbody tr th {\n",
       "        vertical-align: top;\n",
       "    }\n",
       "\n",
       "    .dataframe thead th {\n",
       "        text-align: right;\n",
       "    }\n",
       "</style>\n",
       "<table border=\"1\" class=\"dataframe\">\n",
       "  <thead>\n",
       "    <tr style=\"text-align: right;\">\n",
       "      <th></th>\n",
       "      <th>x0_M</th>\n",
       "      <th>x1_Набережные челны</th>\n",
       "      <th>x1_Нижний Нивгород</th>\n",
       "      <th>x1_Новый Уренгой</th>\n",
       "      <th>x1_Подольск</th>\n",
       "      <th>x1_Санкт-Петербург</th>\n",
       "      <th>x1_Саров</th>\n",
       "      <th>x1_Таганрог</th>\n",
       "      <th>x1_Уфа</th>\n",
       "      <th>x2_Комиссия</th>\n",
       "      <th>x3_Отделение</th>\n",
       "      <th>x4_Перевод</th>\n",
       "      <th>x5_Отсутствует</th>\n",
       "      <th>x5_Промокод</th>\n",
       "      <th>x5_Физический</th>\n",
       "      <th>Возраст</th>\n",
       "      <th>Запрашиваемая сумма возмещения</th>\n",
       "      <th>Период</th>\n",
       "      <th>Штраф</th>\n",
       "    </tr>\n",
       "  </thead>\n",
       "  <tbody>\n",
       "    <tr>\n",
       "      <th>323</th>\n",
       "      <td>1.0</td>\n",
       "      <td>0.0</td>\n",
       "      <td>0.0</td>\n",
       "      <td>0.0</td>\n",
       "      <td>0.0</td>\n",
       "      <td>0.0</td>\n",
       "      <td>0.0</td>\n",
       "      <td>0.0</td>\n",
       "      <td>1.0</td>\n",
       "      <td>0.0</td>\n",
       "      <td>0.0</td>\n",
       "      <td>0.0</td>\n",
       "      <td>1.0</td>\n",
       "      <td>0.0</td>\n",
       "      <td>0.0</td>\n",
       "      <td>36.0</td>\n",
       "      <td>2103.0</td>\n",
       "      <td>1.0</td>\n",
       "      <td>105.0</td>\n",
       "    </tr>\n",
       "    <tr>\n",
       "      <th>2034</th>\n",
       "      <td>0.0</td>\n",
       "      <td>0.0</td>\n",
       "      <td>0.0</td>\n",
       "      <td>0.0</td>\n",
       "      <td>0.0</td>\n",
       "      <td>0.0</td>\n",
       "      <td>0.0</td>\n",
       "      <td>0.0</td>\n",
       "      <td>0.0</td>\n",
       "      <td>1.0</td>\n",
       "      <td>1.0</td>\n",
       "      <td>1.0</td>\n",
       "      <td>1.0</td>\n",
       "      <td>0.0</td>\n",
       "      <td>0.0</td>\n",
       "      <td>29.0</td>\n",
       "      <td>4895.0</td>\n",
       "      <td>1.0</td>\n",
       "      <td>489.0</td>\n",
       "    </tr>\n",
       "    <tr>\n",
       "      <th>996</th>\n",
       "      <td>1.0</td>\n",
       "      <td>0.0</td>\n",
       "      <td>0.0</td>\n",
       "      <td>1.0</td>\n",
       "      <td>0.0</td>\n",
       "      <td>0.0</td>\n",
       "      <td>0.0</td>\n",
       "      <td>0.0</td>\n",
       "      <td>0.0</td>\n",
       "      <td>0.0</td>\n",
       "      <td>1.0</td>\n",
       "      <td>1.0</td>\n",
       "      <td>1.0</td>\n",
       "      <td>0.0</td>\n",
       "      <td>0.0</td>\n",
       "      <td>51.0</td>\n",
       "      <td>1386.0</td>\n",
       "      <td>4.0</td>\n",
       "      <td>27.0</td>\n",
       "    </tr>\n",
       "    <tr>\n",
       "      <th>8930</th>\n",
       "      <td>0.0</td>\n",
       "      <td>0.0</td>\n",
       "      <td>0.0</td>\n",
       "      <td>0.0</td>\n",
       "      <td>0.0</td>\n",
       "      <td>0.0</td>\n",
       "      <td>0.0</td>\n",
       "      <td>0.0</td>\n",
       "      <td>1.0</td>\n",
       "      <td>1.0</td>\n",
       "      <td>1.0</td>\n",
       "      <td>1.0</td>\n",
       "      <td>0.0</td>\n",
       "      <td>0.0</td>\n",
       "      <td>0.0</td>\n",
       "      <td>43.0</td>\n",
       "      <td>418.0</td>\n",
       "      <td>1.0</td>\n",
       "      <td>8.0</td>\n",
       "    </tr>\n",
       "    <tr>\n",
       "      <th>7623</th>\n",
       "      <td>0.0</td>\n",
       "      <td>0.0</td>\n",
       "      <td>1.0</td>\n",
       "      <td>0.0</td>\n",
       "      <td>0.0</td>\n",
       "      <td>0.0</td>\n",
       "      <td>0.0</td>\n",
       "      <td>0.0</td>\n",
       "      <td>0.0</td>\n",
       "      <td>0.0</td>\n",
       "      <td>1.0</td>\n",
       "      <td>1.0</td>\n",
       "      <td>0.0</td>\n",
       "      <td>1.0</td>\n",
       "      <td>0.0</td>\n",
       "      <td>51.0</td>\n",
       "      <td>614.0</td>\n",
       "      <td>1.0</td>\n",
       "      <td>24.0</td>\n",
       "    </tr>\n",
       "    <tr>\n",
       "      <th>...</th>\n",
       "      <td>...</td>\n",
       "      <td>...</td>\n",
       "      <td>...</td>\n",
       "      <td>...</td>\n",
       "      <td>...</td>\n",
       "      <td>...</td>\n",
       "      <td>...</td>\n",
       "      <td>...</td>\n",
       "      <td>...</td>\n",
       "      <td>...</td>\n",
       "      <td>...</td>\n",
       "      <td>...</td>\n",
       "      <td>...</td>\n",
       "      <td>...</td>\n",
       "      <td>...</td>\n",
       "      <td>...</td>\n",
       "      <td>...</td>\n",
       "      <td>...</td>\n",
       "      <td>...</td>\n",
       "    </tr>\n",
       "    <tr>\n",
       "      <th>5737</th>\n",
       "      <td>0.0</td>\n",
       "      <td>1.0</td>\n",
       "      <td>0.0</td>\n",
       "      <td>0.0</td>\n",
       "      <td>0.0</td>\n",
       "      <td>0.0</td>\n",
       "      <td>0.0</td>\n",
       "      <td>0.0</td>\n",
       "      <td>0.0</td>\n",
       "      <td>1.0</td>\n",
       "      <td>0.0</td>\n",
       "      <td>0.0</td>\n",
       "      <td>1.0</td>\n",
       "      <td>0.0</td>\n",
       "      <td>0.0</td>\n",
       "      <td>58.0</td>\n",
       "      <td>2160.0</td>\n",
       "      <td>1.0</td>\n",
       "      <td>194.0</td>\n",
       "    </tr>\n",
       "    <tr>\n",
       "      <th>5194</th>\n",
       "      <td>1.0</td>\n",
       "      <td>0.0</td>\n",
       "      <td>0.0</td>\n",
       "      <td>0.0</td>\n",
       "      <td>1.0</td>\n",
       "      <td>0.0</td>\n",
       "      <td>0.0</td>\n",
       "      <td>0.0</td>\n",
       "      <td>0.0</td>\n",
       "      <td>1.0</td>\n",
       "      <td>0.0</td>\n",
       "      <td>0.0</td>\n",
       "      <td>1.0</td>\n",
       "      <td>0.0</td>\n",
       "      <td>0.0</td>\n",
       "      <td>52.0</td>\n",
       "      <td>616.0</td>\n",
       "      <td>1.0</td>\n",
       "      <td>24.0</td>\n",
       "    </tr>\n",
       "    <tr>\n",
       "      <th>5393</th>\n",
       "      <td>1.0</td>\n",
       "      <td>0.0</td>\n",
       "      <td>1.0</td>\n",
       "      <td>0.0</td>\n",
       "      <td>0.0</td>\n",
       "      <td>0.0</td>\n",
       "      <td>0.0</td>\n",
       "      <td>0.0</td>\n",
       "      <td>0.0</td>\n",
       "      <td>0.0</td>\n",
       "      <td>0.0</td>\n",
       "      <td>0.0</td>\n",
       "      <td>1.0</td>\n",
       "      <td>0.0</td>\n",
       "      <td>0.0</td>\n",
       "      <td>54.0</td>\n",
       "      <td>3414.0</td>\n",
       "      <td>1.0</td>\n",
       "      <td>238.0</td>\n",
       "    </tr>\n",
       "    <tr>\n",
       "      <th>862</th>\n",
       "      <td>0.0</td>\n",
       "      <td>0.0</td>\n",
       "      <td>0.0</td>\n",
       "      <td>0.0</td>\n",
       "      <td>0.0</td>\n",
       "      <td>0.0</td>\n",
       "      <td>0.0</td>\n",
       "      <td>1.0</td>\n",
       "      <td>0.0</td>\n",
       "      <td>1.0</td>\n",
       "      <td>0.0</td>\n",
       "      <td>0.0</td>\n",
       "      <td>1.0</td>\n",
       "      <td>0.0</td>\n",
       "      <td>0.0</td>\n",
       "      <td>40.0</td>\n",
       "      <td>1648.0</td>\n",
       "      <td>5.0</td>\n",
       "      <td>65.0</td>\n",
       "    </tr>\n",
       "    <tr>\n",
       "      <th>7273</th>\n",
       "      <td>0.0</td>\n",
       "      <td>0.0</td>\n",
       "      <td>0.0</td>\n",
       "      <td>0.0</td>\n",
       "      <td>0.0</td>\n",
       "      <td>0.0</td>\n",
       "      <td>0.0</td>\n",
       "      <td>0.0</td>\n",
       "      <td>1.0</td>\n",
       "      <td>0.0</td>\n",
       "      <td>1.0</td>\n",
       "      <td>1.0</td>\n",
       "      <td>0.0</td>\n",
       "      <td>1.0</td>\n",
       "      <td>0.0</td>\n",
       "      <td>39.0</td>\n",
       "      <td>2556.0</td>\n",
       "      <td>1.0</td>\n",
       "      <td>178.0</td>\n",
       "    </tr>\n",
       "  </tbody>\n",
       "</table>\n",
       "<p>6325 rows × 19 columns</p>\n",
       "</div>"
      ],
      "text/plain": [
       "      x0_M  x1_Набережные челны  x1_Нижний Нивгород  x1_Новый Уренгой  \\\n",
       "323    1.0                  0.0                 0.0               0.0   \n",
       "2034   0.0                  0.0                 0.0               0.0   \n",
       "996    1.0                  0.0                 0.0               1.0   \n",
       "8930   0.0                  0.0                 0.0               0.0   \n",
       "7623   0.0                  0.0                 1.0               0.0   \n",
       "...    ...                  ...                 ...               ...   \n",
       "5737   0.0                  1.0                 0.0               0.0   \n",
       "5194   1.0                  0.0                 0.0               0.0   \n",
       "5393   1.0                  0.0                 1.0               0.0   \n",
       "862    0.0                  0.0                 0.0               0.0   \n",
       "7273   0.0                  0.0                 0.0               0.0   \n",
       "\n",
       "      x1_Подольск  x1_Санкт-Петербург  x1_Саров  x1_Таганрог  x1_Уфа  \\\n",
       "323           0.0                 0.0       0.0          0.0     1.0   \n",
       "2034          0.0                 0.0       0.0          0.0     0.0   \n",
       "996           0.0                 0.0       0.0          0.0     0.0   \n",
       "8930          0.0                 0.0       0.0          0.0     1.0   \n",
       "7623          0.0                 0.0       0.0          0.0     0.0   \n",
       "...           ...                 ...       ...          ...     ...   \n",
       "5737          0.0                 0.0       0.0          0.0     0.0   \n",
       "5194          1.0                 0.0       0.0          0.0     0.0   \n",
       "5393          0.0                 0.0       0.0          0.0     0.0   \n",
       "862           0.0                 0.0       0.0          1.0     0.0   \n",
       "7273          0.0                 0.0       0.0          0.0     1.0   \n",
       "\n",
       "      x2_Комиссия  x3_Отделение  x4_Перевод  x5_Отсутствует  x5_Промокод  \\\n",
       "323           0.0           0.0         0.0             1.0          0.0   \n",
       "2034          1.0           1.0         1.0             1.0          0.0   \n",
       "996           0.0           1.0         1.0             1.0          0.0   \n",
       "8930          1.0           1.0         1.0             0.0          0.0   \n",
       "7623          0.0           1.0         1.0             0.0          1.0   \n",
       "...           ...           ...         ...             ...          ...   \n",
       "5737          1.0           0.0         0.0             1.0          0.0   \n",
       "5194          1.0           0.0         0.0             1.0          0.0   \n",
       "5393          0.0           0.0         0.0             1.0          0.0   \n",
       "862           1.0           0.0         0.0             1.0          0.0   \n",
       "7273          0.0           1.0         1.0             0.0          1.0   \n",
       "\n",
       "      x5_Физический  Возраст  Запрашиваемая сумма возмещения  Период  Штраф  \n",
       "323             0.0     36.0                          2103.0     1.0  105.0  \n",
       "2034            0.0     29.0                          4895.0     1.0  489.0  \n",
       "996             0.0     51.0                          1386.0     4.0   27.0  \n",
       "8930            0.0     43.0                           418.0     1.0    8.0  \n",
       "7623            0.0     51.0                           614.0     1.0   24.0  \n",
       "...             ...      ...                             ...     ...    ...  \n",
       "5737            0.0     58.0                          2160.0     1.0  194.0  \n",
       "5194            0.0     52.0                           616.0     1.0   24.0  \n",
       "5393            0.0     54.0                          3414.0     1.0  238.0  \n",
       "862             0.0     40.0                          1648.0     5.0   65.0  \n",
       "7273            0.0     39.0                          2556.0     1.0  178.0  \n",
       "\n",
       "[6325 rows x 19 columns]"
      ]
     },
     "execution_count": 282,
     "metadata": {},
     "output_type": "execute_result"
    }
   ],
   "source": [
    "X_train_tr"
   ]
  },
  {
   "cell_type": "code",
   "execution_count": 285,
   "metadata": {
    "scrolled": false
   },
   "outputs": [
    {
     "data": {
      "text/html": [
       "<table class=\"simpletable\">\n",
       "<caption>OLS Regression Results</caption>\n",
       "<tr>\n",
       "  <th>Dep. Variable:</th>           <td>CSI</td>       <th>  R-squared:         </th> <td>   0.010</td> \n",
       "</tr>\n",
       "<tr>\n",
       "  <th>Model:</th>                   <td>OLS</td>       <th>  Adj. R-squared:    </th> <td>   0.007</td> \n",
       "</tr>\n",
       "<tr>\n",
       "  <th>Method:</th>             <td>Least Squares</td>  <th>  F-statistic:       </th> <td>   3.613</td> \n",
       "</tr>\n",
       "<tr>\n",
       "  <th>Date:</th>             <td>Wed, 11 Nov 2020</td> <th>  Prob (F-statistic):</th> <td>3.38e-07</td> \n",
       "</tr>\n",
       "<tr>\n",
       "  <th>Time:</th>                 <td>21:08:00</td>     <th>  Log-Likelihood:    </th> <td> -15636.</td> \n",
       "</tr>\n",
       "<tr>\n",
       "  <th>No. Observations:</th>      <td>  6325</td>      <th>  AIC:               </th> <td>3.131e+04</td>\n",
       "</tr>\n",
       "<tr>\n",
       "  <th>Df Residuals:</th>          <td>  6306</td>      <th>  BIC:               </th> <td>3.144e+04</td>\n",
       "</tr>\n",
       "<tr>\n",
       "  <th>Df Model:</th>              <td>    18</td>      <th>                     </th>     <td> </td>    \n",
       "</tr>\n",
       "<tr>\n",
       "  <th>Covariance Type:</th>      <td>nonrobust</td>    <th>                     </th>     <td> </td>    \n",
       "</tr>\n",
       "</table>\n",
       "<table class=\"simpletable\">\n",
       "<tr>\n",
       "                 <td></td>                   <th>coef</th>     <th>std err</th>      <th>t</th>      <th>P>|t|</th>  <th>[0.025</th>    <th>0.975]</th>  \n",
       "</tr>\n",
       "<tr>\n",
       "  <th>const</th>                          <td>    5.8646</td> <td>    0.251</td> <td>   23.349</td> <td> 0.000</td> <td>    5.372</td> <td>    6.357</td>\n",
       "</tr>\n",
       "<tr>\n",
       "  <th>x0_M</th>                           <td>   -0.0371</td> <td>    0.072</td> <td>   -0.514</td> <td> 0.607</td> <td>   -0.179</td> <td>    0.105</td>\n",
       "</tr>\n",
       "<tr>\n",
       "  <th>x1_Набережные челны</th>            <td>    0.0301</td> <td>    0.151</td> <td>    0.200</td> <td> 0.842</td> <td>   -0.265</td> <td>    0.326</td>\n",
       "</tr>\n",
       "<tr>\n",
       "  <th>x1_Нижний Нивгород</th>             <td>   -0.1180</td> <td>    0.137</td> <td>   -0.858</td> <td> 0.391</td> <td>   -0.387</td> <td>    0.152</td>\n",
       "</tr>\n",
       "<tr>\n",
       "  <th>x1_Новый Уренгой</th>               <td>   -0.2985</td> <td>    0.325</td> <td>   -0.920</td> <td> 0.358</td> <td>   -0.935</td> <td>    0.338</td>\n",
       "</tr>\n",
       "<tr>\n",
       "  <th>x1_Подольск</th>                    <td>    0.1460</td> <td>    0.142</td> <td>    1.032</td> <td> 0.302</td> <td>   -0.131</td> <td>    0.423</td>\n",
       "</tr>\n",
       "<tr>\n",
       "  <th>x1_Санкт-Петербург</th>             <td>    0.0168</td> <td>    0.150</td> <td>    0.112</td> <td> 0.911</td> <td>   -0.277</td> <td>    0.310</td>\n",
       "</tr>\n",
       "<tr>\n",
       "  <th>x1_Саров</th>                       <td>    0.1181</td> <td>    0.165</td> <td>    0.714</td> <td> 0.475</td> <td>   -0.206</td> <td>    0.442</td>\n",
       "</tr>\n",
       "<tr>\n",
       "  <th>x1_Таганрог</th>                    <td>   -0.6796</td> <td>    0.443</td> <td>   -1.533</td> <td> 0.125</td> <td>   -1.548</td> <td>    0.189</td>\n",
       "</tr>\n",
       "<tr>\n",
       "  <th>x1_Уфа</th>                         <td>   -0.2141</td> <td>    0.142</td> <td>   -1.510</td> <td> 0.131</td> <td>   -0.492</td> <td>    0.064</td>\n",
       "</tr>\n",
       "<tr>\n",
       "  <th>x2_Комиссия</th>                    <td>   -0.1205</td> <td>    0.075</td> <td>   -1.611</td> <td> 0.107</td> <td>   -0.267</td> <td>    0.026</td>\n",
       "</tr>\n",
       "<tr>\n",
       "  <th>x3_Отделение</th>                   <td>   -0.0220</td> <td>    0.036</td> <td>   -0.607</td> <td> 0.544</td> <td>   -0.093</td> <td>    0.049</td>\n",
       "</tr>\n",
       "<tr>\n",
       "  <th>x4_Перевод</th>                     <td>   -0.0220</td> <td>    0.036</td> <td>   -0.607</td> <td> 0.544</td> <td>   -0.093</td> <td>    0.049</td>\n",
       "</tr>\n",
       "<tr>\n",
       "  <th>x5_Отсутствует</th>                 <td>   -0.2554</td> <td>    0.112</td> <td>   -2.288</td> <td> 0.022</td> <td>   -0.474</td> <td>   -0.037</td>\n",
       "</tr>\n",
       "<tr>\n",
       "  <th>x5_Промокод</th>                    <td>    0.1622</td> <td>    0.144</td> <td>    1.129</td> <td> 0.259</td> <td>   -0.119</td> <td>    0.444</td>\n",
       "</tr>\n",
       "<tr>\n",
       "  <th>x5_Физический</th>                  <td>    0.0511</td> <td>    0.143</td> <td>    0.357</td> <td> 0.721</td> <td>   -0.229</td> <td>    0.331</td>\n",
       "</tr>\n",
       "<tr>\n",
       "  <th>Возраст</th>                        <td>   -0.0006</td> <td>    0.003</td> <td>   -0.177</td> <td> 0.860</td> <td>   -0.007</td> <td>    0.006</td>\n",
       "</tr>\n",
       "<tr>\n",
       "  <th>Запрашиваемая сумма возмещения</th> <td>    0.0001</td> <td> 3.88e-05</td> <td>    2.744</td> <td> 0.006</td> <td> 3.04e-05</td> <td>    0.000</td>\n",
       "</tr>\n",
       "<tr>\n",
       "  <th>Период</th>                         <td>    0.0716</td> <td>    0.105</td> <td>    0.683</td> <td> 0.495</td> <td>   -0.134</td> <td>    0.277</td>\n",
       "</tr>\n",
       "<tr>\n",
       "  <th>Штраф</th>                          <td>   -0.0021</td> <td>    0.000</td> <td>   -4.736</td> <td> 0.000</td> <td>   -0.003</td> <td>   -0.001</td>\n",
       "</tr>\n",
       "</table>\n",
       "<table class=\"simpletable\">\n",
       "<tr>\n",
       "  <th>Omnibus:</th>       <td>5196.933</td> <th>  Durbin-Watson:     </th> <td>   1.949</td>\n",
       "</tr>\n",
       "<tr>\n",
       "  <th>Prob(Omnibus):</th>  <td> 0.000</td>  <th>  Jarque-Bera (JB):  </th> <td> 381.305</td>\n",
       "</tr>\n",
       "<tr>\n",
       "  <th>Skew:</th>           <td>-0.069</td>  <th>  Prob(JB):          </th> <td>1.59e-83</td>\n",
       "</tr>\n",
       "<tr>\n",
       "  <th>Kurtosis:</th>       <td> 1.805</td>  <th>  Cond. No.          </th> <td>8.47e+19</td>\n",
       "</tr>\n",
       "</table><br/><br/>Warnings:<br/>[1] Standard Errors assume that the covariance matrix of the errors is correctly specified.<br/>[2] The smallest eigenvalue is 5.7e-30. This might indicate that there are<br/>strong multicollinearity problems or that the design matrix is singular."
      ],
      "text/plain": [
       "<class 'statsmodels.iolib.summary.Summary'>\n",
       "\"\"\"\n",
       "                            OLS Regression Results                            \n",
       "==============================================================================\n",
       "Dep. Variable:                    CSI   R-squared:                       0.010\n",
       "Model:                            OLS   Adj. R-squared:                  0.007\n",
       "Method:                 Least Squares   F-statistic:                     3.613\n",
       "Date:                Wed, 11 Nov 2020   Prob (F-statistic):           3.38e-07\n",
       "Time:                        21:08:00   Log-Likelihood:                -15636.\n",
       "No. Observations:                6325   AIC:                         3.131e+04\n",
       "Df Residuals:                    6306   BIC:                         3.144e+04\n",
       "Df Model:                          18                                         \n",
       "Covariance Type:            nonrobust                                         \n",
       "==================================================================================================\n",
       "                                     coef    std err          t      P>|t|      [0.025      0.975]\n",
       "--------------------------------------------------------------------------------------------------\n",
       "const                              5.8646      0.251     23.349      0.000       5.372       6.357\n",
       "x0_M                              -0.0371      0.072     -0.514      0.607      -0.179       0.105\n",
       "x1_Набережные челны                0.0301      0.151      0.200      0.842      -0.265       0.326\n",
       "x1_Нижний Нивгород                -0.1180      0.137     -0.858      0.391      -0.387       0.152\n",
       "x1_Новый Уренгой                  -0.2985      0.325     -0.920      0.358      -0.935       0.338\n",
       "x1_Подольск                        0.1460      0.142      1.032      0.302      -0.131       0.423\n",
       "x1_Санкт-Петербург                 0.0168      0.150      0.112      0.911      -0.277       0.310\n",
       "x1_Саров                           0.1181      0.165      0.714      0.475      -0.206       0.442\n",
       "x1_Таганрог                       -0.6796      0.443     -1.533      0.125      -1.548       0.189\n",
       "x1_Уфа                            -0.2141      0.142     -1.510      0.131      -0.492       0.064\n",
       "x2_Комиссия                       -0.1205      0.075     -1.611      0.107      -0.267       0.026\n",
       "x3_Отделение                      -0.0220      0.036     -0.607      0.544      -0.093       0.049\n",
       "x4_Перевод                        -0.0220      0.036     -0.607      0.544      -0.093       0.049\n",
       "x5_Отсутствует                    -0.2554      0.112     -2.288      0.022      -0.474      -0.037\n",
       "x5_Промокод                        0.1622      0.144      1.129      0.259      -0.119       0.444\n",
       "x5_Физический                      0.0511      0.143      0.357      0.721      -0.229       0.331\n",
       "Возраст                           -0.0006      0.003     -0.177      0.860      -0.007       0.006\n",
       "Запрашиваемая сумма возмещения     0.0001   3.88e-05      2.744      0.006    3.04e-05       0.000\n",
       "Период                             0.0716      0.105      0.683      0.495      -0.134       0.277\n",
       "Штраф                             -0.0021      0.000     -4.736      0.000      -0.003      -0.001\n",
       "==============================================================================\n",
       "Omnibus:                     5196.933   Durbin-Watson:                   1.949\n",
       "Prob(Omnibus):                  0.000   Jarque-Bera (JB):              381.305\n",
       "Skew:                          -0.069   Prob(JB):                     1.59e-83\n",
       "Kurtosis:                       1.805   Cond. No.                     8.47e+19\n",
       "==============================================================================\n",
       "\n",
       "Warnings:\n",
       "[1] Standard Errors assume that the covariance matrix of the errors is correctly specified.\n",
       "[2] The smallest eigenvalue is 5.7e-30. This might indicate that there are\n",
       "strong multicollinearity problems or that the design matrix is singular.\n",
       "\"\"\""
      ]
     },
     "execution_count": 285,
     "metadata": {},
     "output_type": "execute_result"
    }
   ],
   "source": [
    "X_reg = sm.add_constant(X_train_tr)\n",
    "res = sm.OLS(y_train, X_reg).fit()\n",
    "res.summary()"
   ]
  },
  {
   "cell_type": "markdown",
   "metadata": {},
   "source": [
    "# <font color = 'green'> В общем, ни одной гипотезы при таких данных проверить не удастся. Ну или просто это я дурак </font>"
   ]
  },
  {
   "cell_type": "code",
   "execution_count": null,
   "metadata": {},
   "outputs": [],
   "source": []
  }
 ],
 "metadata": {
  "kernelspec": {
   "display_name": "Python 3",
   "language": "python",
   "name": "python3"
  },
  "language_info": {
   "codemirror_mode": {
    "name": "ipython",
    "version": 3
   },
   "file_extension": ".py",
   "mimetype": "text/x-python",
   "name": "python",
   "nbconvert_exporter": "python",
   "pygments_lexer": "ipython3",
   "version": "3.6.10"
  }
 },
 "nbformat": 4,
 "nbformat_minor": 4
}
